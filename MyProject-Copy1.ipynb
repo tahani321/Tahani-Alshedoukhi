{
 "cells": [
  {
   "cell_type": "markdown",
   "id": "0256e6db",
   "metadata": {},
   "source": [
    "# Libraries"
   ]
  },
  {
   "cell_type": "code",
   "execution_count": 1,
   "id": "61f682e7",
   "metadata": {},
   "outputs": [],
   "source": [
    "#Step 1: \n",
    "#importing the libraries\n",
    "import numpy as np # linear algebra\n",
    "import pandas as pd # data processing\n",
    "import warnings# warning filter\n",
    "warnings.filterwarnings('ignore')"
   ]
  },
  {
   "cell_type": "code",
   "execution_count": 2,
   "id": "dde0fbe6",
   "metadata": {},
   "outputs": [],
   "source": [
    "# to visualize and show charts\n",
    "import seaborn as sns\n",
    "import matplotlib.pyplot as plt\n",
    "%matplotlib inline\n",
    "##feature engineering\n",
    "from sklearn.preprocessing import LabelEncoder\n",
    "from sklearn.model_selection import train_test_split\n",
    "from sklearn.linear_model import LinearRegression, Ridge #ordinary linear regression + w/ ridge regularization\n",
    "\n"
   ]
  },
  {
   "cell_type": "markdown",
   "id": "54baa8cf",
   "metadata": {},
   "source": [
    "# Importing Data  "
   ]
  },
  {
   "cell_type": "code",
   "execution_count": 3,
   "id": "15025875",
   "metadata": {},
   "outputs": [
    {
     "data": {
      "text/html": [
       "<div>\n",
       "<style scoped>\n",
       "    .dataframe tbody tr th:only-of-type {\n",
       "        vertical-align: middle;\n",
       "    }\n",
       "\n",
       "    .dataframe tbody tr th {\n",
       "        vertical-align: top;\n",
       "    }\n",
       "\n",
       "    .dataframe thead th {\n",
       "        text-align: right;\n",
       "    }\n",
       "</style>\n",
       "<table border=\"1\" class=\"dataframe\">\n",
       "  <thead>\n",
       "    <tr style=\"text-align: right;\">\n",
       "      <th></th>\n",
       "      <th>Item_Identifier</th>\n",
       "      <th>Item_Weight</th>\n",
       "      <th>Item_Fat_Content</th>\n",
       "      <th>Item_Visibility</th>\n",
       "      <th>Item_Type</th>\n",
       "      <th>Item_MRP</th>\n",
       "      <th>Outlet_Identifier</th>\n",
       "      <th>Outlet_Establishment_Year</th>\n",
       "      <th>Outlet_Size</th>\n",
       "      <th>Outlet_Location_Type</th>\n",
       "      <th>Outlet_Type</th>\n",
       "      <th>Item_Outlet_Sales</th>\n",
       "    </tr>\n",
       "  </thead>\n",
       "  <tbody>\n",
       "    <tr>\n",
       "      <th>0</th>\n",
       "      <td>FDA15</td>\n",
       "      <td>9.30</td>\n",
       "      <td>Low Fat</td>\n",
       "      <td>0.016047</td>\n",
       "      <td>Dairy</td>\n",
       "      <td>249.8092</td>\n",
       "      <td>OUT049</td>\n",
       "      <td>1999</td>\n",
       "      <td>Medium</td>\n",
       "      <td>Tier 1</td>\n",
       "      <td>Supermarket Type1</td>\n",
       "      <td>3735.1380</td>\n",
       "    </tr>\n",
       "    <tr>\n",
       "      <th>1</th>\n",
       "      <td>DRC01</td>\n",
       "      <td>5.92</td>\n",
       "      <td>Regular</td>\n",
       "      <td>0.019278</td>\n",
       "      <td>Soft Drinks</td>\n",
       "      <td>48.2692</td>\n",
       "      <td>OUT018</td>\n",
       "      <td>2009</td>\n",
       "      <td>Medium</td>\n",
       "      <td>Tier 3</td>\n",
       "      <td>Supermarket Type2</td>\n",
       "      <td>443.4228</td>\n",
       "    </tr>\n",
       "  </tbody>\n",
       "</table>\n",
       "</div>"
      ],
      "text/plain": [
       "  Item_Identifier  Item_Weight Item_Fat_Content  Item_Visibility    Item_Type  \\\n",
       "0           FDA15         9.30          Low Fat         0.016047        Dairy   \n",
       "1           DRC01         5.92          Regular         0.019278  Soft Drinks   \n",
       "\n",
       "   Item_MRP Outlet_Identifier  Outlet_Establishment_Year Outlet_Size  \\\n",
       "0  249.8092            OUT049                       1999      Medium   \n",
       "1   48.2692            OUT018                       2009      Medium   \n",
       "\n",
       "  Outlet_Location_Type        Outlet_Type  Item_Outlet_Sales  \n",
       "0               Tier 1  Supermarket Type1          3735.1380  \n",
       "1               Tier 3  Supermarket Type2           443.4228  "
      ]
     },
     "execution_count": 3,
     "metadata": {},
     "output_type": "execute_result"
    }
   ],
   "source": [
    "#step 2: Reading the dataset\n",
    "train_bigmart_df=pd.read_csv('C:/Users/DELL/Desktop/ML/MyProject/Train.csv')\n",
    "train_bigmart_df.head(2)"
   ]
  },
  {
   "cell_type": "markdown",
   "id": "876b8800",
   "metadata": {},
   "source": [
    "# Exploratory Data Analysis (EDA)"
   ]
  },
  {
   "cell_type": "code",
   "execution_count": 4,
   "id": "b1b5dc74",
   "metadata": {
    "scrolled": false
   },
   "outputs": [
    {
     "name": "stdout",
     "output_type": "stream",
     "text": [
      "<class 'pandas.core.frame.DataFrame'>\n",
      "RangeIndex: 8523 entries, 0 to 8522\n",
      "Data columns (total 12 columns):\n",
      " #   Column                     Non-Null Count  Dtype  \n",
      "---  ------                     --------------  -----  \n",
      " 0   Item_Identifier            8523 non-null   object \n",
      " 1   Item_Weight                7060 non-null   float64\n",
      " 2   Item_Fat_Content           8523 non-null   object \n",
      " 3   Item_Visibility            8523 non-null   float64\n",
      " 4   Item_Type                  8523 non-null   object \n",
      " 5   Item_MRP                   8523 non-null   float64\n",
      " 6   Outlet_Identifier          8523 non-null   object \n",
      " 7   Outlet_Establishment_Year  8523 non-null   int64  \n",
      " 8   Outlet_Size                6113 non-null   object \n",
      " 9   Outlet_Location_Type       8523 non-null   object \n",
      " 10  Outlet_Type                8523 non-null   object \n",
      " 11  Item_Outlet_Sales          8523 non-null   float64\n",
      "dtypes: float64(4), int64(1), object(7)\n",
      "memory usage: 799.2+ KB\n"
     ]
    }
   ],
   "source": [
    "#printing information including the index dtype and columns, non-null values and memory usage.\n",
    "#train dataset\n",
    "train_bigmart_df.info() "
   ]
  },
  {
   "cell_type": "code",
   "execution_count": 5,
   "id": "7a805ad3",
   "metadata": {},
   "outputs": [],
   "source": [
    "#From .info() we can see that:\n",
    "# Item_Weight and Outlet_Size in test and train data have non values.\n",
    "#to solve this problem :\n",
    "#Item_Weight: sense it is numaric I will replace it by the mean value.\n",
    "#Outlet_Size: sense it is catagoric I will replace it by the mode value."
   ]
  },
  {
   "cell_type": "code",
   "execution_count": 6,
   "id": "86108324",
   "metadata": {},
   "outputs": [
    {
     "data": {
      "text/html": [
       "<div>\n",
       "<style scoped>\n",
       "    .dataframe tbody tr th:only-of-type {\n",
       "        vertical-align: middle;\n",
       "    }\n",
       "\n",
       "    .dataframe tbody tr th {\n",
       "        vertical-align: top;\n",
       "    }\n",
       "\n",
       "    .dataframe thead th {\n",
       "        text-align: right;\n",
       "    }\n",
       "</style>\n",
       "<table border=\"1\" class=\"dataframe\">\n",
       "  <thead>\n",
       "    <tr style=\"text-align: right;\">\n",
       "      <th></th>\n",
       "      <th>count</th>\n",
       "      <th>mean</th>\n",
       "      <th>std</th>\n",
       "      <th>min</th>\n",
       "      <th>25%</th>\n",
       "      <th>50%</th>\n",
       "      <th>75%</th>\n",
       "      <th>max</th>\n",
       "    </tr>\n",
       "  </thead>\n",
       "  <tbody>\n",
       "    <tr>\n",
       "      <th>Item_Weight</th>\n",
       "      <td>7060.0</td>\n",
       "      <td>12.857645</td>\n",
       "      <td>4.643456</td>\n",
       "      <td>4.555</td>\n",
       "      <td>8.773750</td>\n",
       "      <td>12.600000</td>\n",
       "      <td>16.850000</td>\n",
       "      <td>21.350000</td>\n",
       "    </tr>\n",
       "    <tr>\n",
       "      <th>Item_Visibility</th>\n",
       "      <td>8523.0</td>\n",
       "      <td>0.066132</td>\n",
       "      <td>0.051598</td>\n",
       "      <td>0.000</td>\n",
       "      <td>0.026989</td>\n",
       "      <td>0.053931</td>\n",
       "      <td>0.094585</td>\n",
       "      <td>0.328391</td>\n",
       "    </tr>\n",
       "    <tr>\n",
       "      <th>Item_MRP</th>\n",
       "      <td>8523.0</td>\n",
       "      <td>140.992782</td>\n",
       "      <td>62.275067</td>\n",
       "      <td>31.290</td>\n",
       "      <td>93.826500</td>\n",
       "      <td>143.012800</td>\n",
       "      <td>185.643700</td>\n",
       "      <td>266.888400</td>\n",
       "    </tr>\n",
       "    <tr>\n",
       "      <th>Outlet_Establishment_Year</th>\n",
       "      <td>8523.0</td>\n",
       "      <td>1997.831867</td>\n",
       "      <td>8.371760</td>\n",
       "      <td>1985.000</td>\n",
       "      <td>1987.000000</td>\n",
       "      <td>1999.000000</td>\n",
       "      <td>2004.000000</td>\n",
       "      <td>2009.000000</td>\n",
       "    </tr>\n",
       "    <tr>\n",
       "      <th>Item_Outlet_Sales</th>\n",
       "      <td>8523.0</td>\n",
       "      <td>2181.288914</td>\n",
       "      <td>1706.499616</td>\n",
       "      <td>33.290</td>\n",
       "      <td>834.247400</td>\n",
       "      <td>1794.331000</td>\n",
       "      <td>3101.296400</td>\n",
       "      <td>13086.964800</td>\n",
       "    </tr>\n",
       "  </tbody>\n",
       "</table>\n",
       "</div>"
      ],
      "text/plain": [
       "                            count         mean          std       min  \\\n",
       "Item_Weight                7060.0    12.857645     4.643456     4.555   \n",
       "Item_Visibility            8523.0     0.066132     0.051598     0.000   \n",
       "Item_MRP                   8523.0   140.992782    62.275067    31.290   \n",
       "Outlet_Establishment_Year  8523.0  1997.831867     8.371760  1985.000   \n",
       "Item_Outlet_Sales          8523.0  2181.288914  1706.499616    33.290   \n",
       "\n",
       "                                   25%          50%          75%           max  \n",
       "Item_Weight                   8.773750    12.600000    16.850000     21.350000  \n",
       "Item_Visibility               0.026989     0.053931     0.094585      0.328391  \n",
       "Item_MRP                     93.826500   143.012800   185.643700    266.888400  \n",
       "Outlet_Establishment_Year  1987.000000  1999.000000  2004.000000   2009.000000  \n",
       "Item_Outlet_Sales           834.247400  1794.331000  3101.296400  13086.964800  "
      ]
     },
     "execution_count": 6,
     "metadata": {},
     "output_type": "execute_result"
    }
   ],
   "source": [
    "#Statistical measures about the data\n",
    "train_bigmart_df.describe().T"
   ]
  },
  {
   "cell_type": "code",
   "execution_count": 7,
   "id": "f2465eb5",
   "metadata": {},
   "outputs": [
    {
     "data": {
      "text/plain": [
       "Item_Identifier              1559\n",
       "Item_Weight                   416\n",
       "Item_Fat_Content                5\n",
       "Item_Visibility              7880\n",
       "Item_Type                      16\n",
       "Item_MRP                     5938\n",
       "Outlet_Identifier              10\n",
       "Outlet_Establishment_Year       9\n",
       "Outlet_Size                     4\n",
       "Outlet_Location_Type            3\n",
       "Outlet_Type                     4\n",
       "Item_Outlet_Sales            3493\n",
       "dtype: int64"
      ]
     },
     "execution_count": 7,
     "metadata": {},
     "output_type": "execute_result"
    }
   ],
   "source": [
    "#IN categorical variables we will see the number of unique values in each of them\n",
    "train_bigmart_df.apply(lambda x: len(x.unique()))"
   ]
  },
  {
   "cell_type": "code",
   "execution_count": 8,
   "id": "0f43f987",
   "metadata": {},
   "outputs": [],
   "source": [
    "# We can see that there is 1559 products and 10 outlets."
   ]
  },
  {
   "cell_type": "code",
   "execution_count": 9,
   "id": "b601dfbb",
   "metadata": {},
   "outputs": [
    {
     "data": {
      "text/plain": [
       "Low Fat    5089\n",
       "Regular    2889\n",
       "LF          316\n",
       "reg         117\n",
       "low fat     112\n",
       "Name: Item_Fat_Content, dtype: int64"
      ]
     },
     "execution_count": 9,
     "metadata": {},
     "output_type": "execute_result"
    }
   ],
   "source": [
    "train_bigmart_df['Item_Fat_Content'].value_counts()"
   ]
  },
  {
   "cell_type": "code",
   "execution_count": 10,
   "id": "eb57a5c3",
   "metadata": {},
   "outputs": [],
   "source": [
    "#We can see that Item_Fat_Content values are :(Low Fat,Regular ,LF ,reg ,low fat)\n",
    "#I'm gooing to replace it with :Low Fat , Regular (for visualization)\n",
    "#I'm gooing to label it (for fitting the model)"
   ]
  },
  {
   "cell_type": "code",
   "execution_count": 11,
   "id": "6b5a9cbd",
   "metadata": {},
   "outputs": [
    {
     "data": {
      "text/plain": [
       "Fruits and Vegetables    1232\n",
       "Snack Foods              1200\n",
       "Household                 910\n",
       "Frozen Foods              856\n",
       "Dairy                     682\n",
       "Canned                    649\n",
       "Baking Goods              648\n",
       "Health and Hygiene        520\n",
       "Soft Drinks               445\n",
       "Meat                      425\n",
       "Breads                    251\n",
       "Hard Drinks               214\n",
       "Others                    169\n",
       "Starchy Foods             148\n",
       "Breakfast                 110\n",
       "Seafood                    64\n",
       "Name: Item_Type, dtype: int64"
      ]
     },
     "execution_count": 11,
     "metadata": {},
     "output_type": "execute_result"
    }
   ],
   "source": [
    "train_bigmart_df['Item_Type'].value_counts()"
   ]
  },
  {
   "cell_type": "code",
   "execution_count": 12,
   "id": "7db38ec7",
   "metadata": {},
   "outputs": [],
   "source": [
    "#We see that Item_Type have 16 different types of unique values and it is high number for categorical variable.\n",
    "#Therefore I'm going to use \"dummy variables\"."
   ]
  },
  {
   "cell_type": "code",
   "execution_count": 13,
   "id": "7c06ad8e",
   "metadata": {},
   "outputs": [
    {
     "data": {
      "text/plain": [
       "Supermarket Type1    5577\n",
       "Grocery Store        1083\n",
       "Supermarket Type3     935\n",
       "Supermarket Type2     928\n",
       "Name: Outlet_Type, dtype: int64"
      ]
     },
     "execution_count": 13,
     "metadata": {},
     "output_type": "execute_result"
    }
   ],
   "source": [
    "train_bigmart_df['Outlet_Type'].value_counts()"
   ]
  },
  {
   "cell_type": "code",
   "execution_count": 14,
   "id": "04cdd436",
   "metadata": {},
   "outputs": [
    {
     "data": {
      "text/plain": [
       "Tier 3    3350\n",
       "Tier 2    2785\n",
       "Tier 1    2388\n",
       "Name: Outlet_Location_Type, dtype: int64"
      ]
     },
     "execution_count": 14,
     "metadata": {},
     "output_type": "execute_result"
    }
   ],
   "source": [
    "train_bigmart_df['Outlet_Location_Type'].value_counts()"
   ]
  },
  {
   "cell_type": "code",
   "execution_count": 15,
   "id": "aa653141",
   "metadata": {},
   "outputs": [
    {
     "data": {
      "text/plain": [
       "Medium    2793\n",
       "Small     2388\n",
       "High       932\n",
       "Name: Outlet_Size, dtype: int64"
      ]
     },
     "execution_count": 15,
     "metadata": {},
     "output_type": "execute_result"
    }
   ],
   "source": [
    "train_bigmart_df['Outlet_Size'].value_counts()"
   ]
  },
  {
   "cell_type": "markdown",
   "id": "eb892b14",
   "metadata": {},
   "source": [
    "# Handling Missing data "
   ]
  },
  {
   "cell_type": "markdown",
   "id": "28d315ac",
   "metadata": {},
   "source": [
    "# Iteam_Weight is numarical column so we fit it with mean"
   ]
  },
  {
   "cell_type": "code",
   "execution_count": 16,
   "id": "1fe250e8",
   "metadata": {
    "scrolled": true
   },
   "outputs": [
    {
     "name": "stdout",
     "output_type": "stream",
     "text": [
      "0\n"
     ]
    }
   ],
   "source": [
    "\n",
    "train_bigmart_df['Item_Weight'].fillna(train_bigmart_df['Item_Weight'].mean(), inplace= True)\n",
    "print(train_bigmart_df['Item_Weight'].isnull().sum())\n",
    "\n"
   ]
  },
  {
   "cell_type": "markdown",
   "id": "7b74f011",
   "metadata": {},
   "source": [
    "# Outlet_Size is catagrical  column so we fit it with mode"
   ]
  },
  {
   "cell_type": "code",
   "execution_count": 17,
   "id": "adb846b4",
   "metadata": {},
   "outputs": [],
   "source": [
    "#replace Outlet_Size with the mode of the Outlet_Size for the particular type of outlet."
   ]
  },
  {
   "cell_type": "code",
   "execution_count": 18,
   "id": "04be6770",
   "metadata": {},
   "outputs": [
    {
     "name": "stdout",
     "output_type": "stream",
     "text": [
      "Outlet_Type Grocery Store Supermarket Type1 Supermarket Type2  \\\n",
      "Outlet_Size         Small             Small            Medium   \n",
      "\n",
      "Outlet_Type Supermarket Type3  \n",
      "Outlet_Size            Medium  \n"
     ]
    },
    {
     "data": {
      "text/plain": [
       "0"
      ]
     },
     "execution_count": 18,
     "metadata": {},
     "output_type": "execute_result"
    }
   ],
   "source": [
    "\n",
    "outlet_size_mode = train_bigmart_df.pivot_table(values='Outlet_Size',columns='Outlet_Type',aggfunc=(lambda x: x.mode()[0]))\n",
    "print(outlet_size_mode)\n",
    "\n",
    "missing_values= train_bigmart_df['Outlet_Size'].isnull()\n",
    "train_bigmart_df.loc[missing_values,'Outlet_Size']=train_bigmart_df.loc[missing_values,'Outlet_Type'].apply(lambda x:outlet_size_mode[x])\n",
    "train_bigmart_df['Outlet_Size'].isnull().sum()\n"
   ]
  },
  {
   "cell_type": "markdown",
   "id": "3364d64d",
   "metadata": {},
   "source": [
    "# Handling zeros data"
   ]
  },
  {
   "cell_type": "code",
   "execution_count": 19,
   "id": "515bf7a5",
   "metadata": {},
   "outputs": [
    {
     "name": "stdout",
     "output_type": "stream",
     "text": [
      "0\n"
     ]
    }
   ],
   "source": [
    "#replacing the '0' with the mean of Item_Visibility\n",
    "#from the data description we see the min 0.000\n",
    "\n",
    "train_bigmart_df.loc[:,'Item_Visibility'].replace([0],train_bigmart_df['Item_Visibility'].mean(),inplace=True)\n",
    "print(sum(train_bigmart_df['Item_Visibility']==0))\n"
   ]
  },
  {
   "cell_type": "markdown",
   "id": "87751314",
   "metadata": {},
   "source": [
    "# Analizing text data"
   ]
  },
  {
   "cell_type": "code",
   "execution_count": 20,
   "id": "844e9a27",
   "metadata": {},
   "outputs": [
    {
     "data": {
      "text/plain": [
       "Low Fat    5517\n",
       "Regular    3006\n",
       "Name: Item_Fat_Content, dtype: int64"
      ]
     },
     "execution_count": 20,
     "metadata": {},
     "output_type": "execute_result"
    }
   ],
   "source": [
    "train_bigmart_df['Item_Fat_Content']=train_bigmart_df['Item_Fat_Content'].replace({'LF':'Low Fat','reg':'Regular','low fat':'Low Fat'})\n",
    "train_bigmart_df['Item_Fat_Content'].value_counts()\n",
    "#train_bigmart_df.head()"
   ]
  },
  {
   "cell_type": "markdown",
   "id": "5bda2863",
   "metadata": {},
   "source": [
    "# Data Visualization"
   ]
  },
  {
   "cell_type": "markdown",
   "id": "a943b1c9",
   "metadata": {},
   "source": [
    "# 1- Distribution of each variable."
   ]
  },
  {
   "cell_type": "code",
   "execution_count": 21,
   "id": "f16ed0b3",
   "metadata": {},
   "outputs": [],
   "source": [
    "#Distribution of the target variable:Item_Outlet_Sales"
   ]
  },
  {
   "cell_type": "code",
   "execution_count": 22,
   "id": "2f5b62a4",
   "metadata": {},
   "outputs": [
    {
     "data": {
      "text/plain": [
       "<function matplotlib.pyplot.show(close=None, block=None)>"
      ]
     },
     "execution_count": 22,
     "metadata": {},
     "output_type": "execute_result"
    },
    {
     "data": {
      "image/png": "[encoded data removed]",
      "text/plain": [
       "<Figure size 432x432 with 1 Axes>"
      ]
     },
     "metadata": {
      "needs_background": "light"
     },
     "output_type": "display_data"
    }
   ],
   "source": [
    "\n",
    "plt.figure(figsize=(6,6))\n",
    "sns.distplot(train_bigmart_df['Item_Outlet_Sales'])\n",
    "plt.xlabel(\"Item_Outlet_Sales\")\n",
    "plt.ylabel(\"Number of Sales\")\n",
    "plt.show"
   ]
  },
  {
   "cell_type": "code",
   "execution_count": 23,
   "id": "f4c1c57d",
   "metadata": {},
   "outputs": [],
   "source": [
    "#Catigorical Fetures"
   ]
  },
  {
   "cell_type": "code",
   "execution_count": 24,
   "id": "2d973844",
   "metadata": {},
   "outputs": [
    {
     "data": {
      "image/png": "[encoded data removed]",
      "text/plain": [
       "<Figure size 432x288 with 1 Axes>"
      ]
     },
     "metadata": {
      "needs_background": "light"
     },
     "output_type": "display_data"
    }
   ],
   "source": [
    "#Distribution of the variable:Item_Fat_Content\n",
    "\n",
    "#Which product most sold the low fat or regular fat?\n",
    "plt.figure(figsize=(6,4))\n",
    "sns.countplot(x='Item_Fat_Content' , data=train_bigmart_df ,palette='rocket')\n",
    "plt.xlabel('Item_Fat_Content', fontsize=14)\n",
    "plt.show()"
   ]
  },
  {
   "cell_type": "code",
   "execution_count": 25,
   "id": "561c4561",
   "metadata": {
    "scrolled": false
   },
   "outputs": [
    {
     "data": {
      "image/png": "[encoded data removed]",
      "text/plain": [
       "<Figure size 720x360 with 1 Axes>"
      ]
     },
     "metadata": {
      "needs_background": "light"
     },
     "output_type": "display_data"
    }
   ],
   "source": [
    "#Distribution of the variable: Item_Type\n",
    "\n",
    "# What type of item has most sales?   \n",
    "plt.figure(figsize=(10,5))\n",
    "sns.countplot(x='Item_Type' , data=train_bigmart_df,palette='rocket' )\n",
    "plt.xlabel('Item_Type', fontsize=18)\n",
    "plt.xticks(rotation=90)\n",
    "plt.show()"
   ]
  },
  {
   "cell_type": "code",
   "execution_count": 26,
   "id": "61a5c3e0",
   "metadata": {},
   "outputs": [],
   "source": [
    "#from the plot we can see that Fruits and Vegetables ,Snack Foods and Household are more sold than the other items."
   ]
  },
  {
   "cell_type": "code",
   "execution_count": 27,
   "id": "c68a3a2b",
   "metadata": {},
   "outputs": [
    {
     "data": {
      "image/png": "[encoded data removed]",
      "text/plain": [
       "<Figure size 360x288 with 1 Axes>"
      ]
     },
     "metadata": {
      "needs_background": "light"
     },
     "output_type": "display_data"
    }
   ],
   "source": [
    "#Distribution of the variable:Outlet_Size\n",
    "\n",
    "# what is the most common outlet size?\n",
    "plt.figure(figsize=(5,4))\n",
    "sns.countplot(x='Outlet_Size' , data=train_bigmart_df  ,palette='rocket')\n",
    "plt.xlabel('Outlet_Size', fontsize=14)\n",
    "plt.show()"
   ]
  },
  {
   "cell_type": "code",
   "execution_count": 28,
   "id": "d0af873a",
   "metadata": {},
   "outputs": [
    {
     "data": {
      "image/png": "[encoded data removed]",
      "text/plain": [
       "<Figure size 360x360 with 1 Axes>"
      ]
     },
     "metadata": {
      "needs_background": "light"
     },
     "output_type": "display_data"
    }
   ],
   "source": [
    "#Distribution of the variable:Outlet_Location_Type\n",
    "\n",
    "#Where ara the most outlet located ?\n",
    "plt.figure(figsize=(5,5))\n",
    "sns.countplot(x='Outlet_Location_Type' , data=train_bigmart_df,palette='rocket')\n",
    "plt.xlabel('Outlet_Location_Type', fontsize=14)\n",
    "plt.show()"
   ]
  },
  {
   "cell_type": "code",
   "execution_count": 29,
   "id": "38d7e4c2",
   "metadata": {},
   "outputs": [
    {
     "data": {
      "image/png": "[encoded data removed]",
      "text/plain": [
       "<Figure size 720x288 with 1 Axes>"
      ]
     },
     "metadata": {
      "needs_background": "light"
     },
     "output_type": "display_data"
    }
   ],
   "source": [
    "#Distribution of the variable :Outlet_Type\n",
    "# What type of outlet has more sales?\n",
    "plt.figure(figsize=(10,4))\n",
    "sns.countplot(x='Outlet_Type' , data=train_bigmart_df ,palette='rocket')\n",
    "plt.xlabel('Outlet_Type', fontsize=14)\n",
    "plt.show()"
   ]
  },
  {
   "cell_type": "code",
   "execution_count": 30,
   "id": "6cfbd219",
   "metadata": {},
   "outputs": [],
   "source": [
    "#Numerical fetures"
   ]
  },
  {
   "cell_type": "code",
   "execution_count": 31,
   "id": "59268c0d",
   "metadata": {},
   "outputs": [
    {
     "data": {
      "text/plain": [
       "<AxesSubplot:xlabel='Item_Weight', ylabel='Density'>"
      ]
     },
     "execution_count": 31,
     "metadata": {},
     "output_type": "execute_result"
    },
    {
     "data": {
      "image/png": "[encoded data removed]",
      "text/plain": [
       "<Figure size 432x288 with 1 Axes>"
      ]
     },
     "metadata": {
      "needs_background": "light"
     },
     "output_type": "display_data"
    }
   ],
   "source": [
    "#item_weight distribution\n",
    "plt.figure(figsize=None)\n",
    "sns.distplot(train_bigmart_df['Item_Weight'],color='red')\n",
    "\n",
    "#what is the avg weight of the products ? "
   ]
  },
  {
   "cell_type": "code",
   "execution_count": 32,
   "id": "f91f5bb3",
   "metadata": {},
   "outputs": [
    {
     "data": {
      "text/plain": [
       "<AxesSubplot:xlabel='Item_Visibility', ylabel='Density'>"
      ]
     },
     "execution_count": 32,
     "metadata": {},
     "output_type": "execute_result"
    },
    {
     "data": {
      "image/png": "[encoded data removed]",
      "text/plain": [
       "<Figure size 432x288 with 1 Axes>"
      ]
     },
     "metadata": {
      "needs_background": "light"
     },
     "output_type": "display_data"
    }
   ],
   "source": [
    "#Item_Visibility distribution\n",
    "plt.figure(figsize=None)\n",
    "sns.distplot(train_bigmart_df['Item_Visibility'],color='red')\n"
   ]
  },
  {
   "cell_type": "code",
   "execution_count": 33,
   "id": "a6e9198a",
   "metadata": {
    "scrolled": false
   },
   "outputs": [
    {
     "data": {
      "text/plain": [
       "<AxesSubplot:xlabel='Item_MRP', ylabel='Density'>"
      ]
     },
     "execution_count": 33,
     "metadata": {},
     "output_type": "execute_result"
    },
    {
     "data": {
      "image/png": "[encoded data removed]",
      "text/plain": [
       "<Figure size 432x288 with 1 Axes>"
      ]
     },
     "metadata": {
      "needs_background": "light"
     },
     "output_type": "display_data"
    }
   ],
   "source": [
    "#Item_MRP distribution\n",
    "plt.figure(figsize=None)\n",
    "sns.distplot(train_bigmart_df['Item_MRP'],color='red')"
   ]
  },
  {
   "cell_type": "code",
   "execution_count": 34,
   "id": "27c6bbce",
   "metadata": {},
   "outputs": [
    {
     "data": {
      "image/png": "[encoded data removed]",
      "text/plain": [
       "<Figure size 360x360 with 1 Axes>"
      ]
     },
     "metadata": {
      "needs_background": "light"
     },
     "output_type": "display_data"
    }
   ],
   "source": [
    "#Outlet_Establishment_Years distribution\n",
    "plt.figure(figsize=(5,5))\n",
    "sns.countplot(x='Outlet_Establishment_Year' , data=train_bigmart_df,palette='rocket')\n",
    "plt.xlabel('Outlet_Establishment_Year', fontsize=14)\n",
    "plt.show()"
   ]
  },
  {
   "cell_type": "markdown",
   "id": "4b8b34f7",
   "metadata": {},
   "source": [
    "# 2-Check the relationship between the target variable and others."
   ]
  },
  {
   "cell_type": "code",
   "execution_count": 35,
   "id": "3552b5f9",
   "metadata": {},
   "outputs": [],
   "source": [
    "#Categorical Variables"
   ]
  },
  {
   "cell_type": "code",
   "execution_count": 36,
   "id": "83a83bcf",
   "metadata": {},
   "outputs": [
    {
     "data": {
      "image/png": "[encoded data removed]",
      "text/plain": [
       "<Figure size 432x288 with 1 Axes>"
      ]
     },
     "metadata": {
      "needs_background": "light"
     },
     "output_type": "display_data"
    }
   ],
   "source": [
    "#sales per Item_Fat_Content \n",
    "sns.barplot('Item_Fat_Content' ,'Item_Outlet_Sales', data=train_bigmart_df,palette='hls' )\n",
    "plt.xlabel('Item_Fat_Content', fontsize=14)\n",
    "plt.show()\n"
   ]
  },
  {
   "cell_type": "code",
   "execution_count": 37,
   "id": "002bfa71",
   "metadata": {},
   "outputs": [
    {
     "data": {
      "image/png": "[encoded data removed]",
      "text/plain": [
       "<Figure size 432x288 with 1 Axes>"
      ]
     },
     "metadata": {
      "needs_background": "light"
     },
     "output_type": "display_data"
    }
   ],
   "source": [
    "#sales per Outlet \n",
    "sns.barplot('Outlet_Identifier' ,'Item_Outlet_Sales', data=train_bigmart_df ,palette='hls')\n",
    "plt.xlabel('Outlet_Identifier', fontsize=14)\n",
    "plt.xticks(rotation=90)\n",
    "plt.show()"
   ]
  },
  {
   "cell_type": "code",
   "execution_count": 38,
   "id": "6b7f588b",
   "metadata": {},
   "outputs": [
    {
     "data": {
      "image/png": "[encoded data removed]",
      "text/plain": [
       "<Figure size 432x288 with 1 Axes>"
      ]
     },
     "metadata": {
      "needs_background": "light"
     },
     "output_type": "display_data"
    }
   ],
   "source": [
    "#Sales per item type\n",
    "sns.barplot(x='Item_Type',y='Item_Outlet_Sales',data=train_bigmart_df,palette='hls',saturation=8)\n",
    "plt.xticks(rotation=90)\n",
    "plt.show()\n"
   ]
  },
  {
   "cell_type": "code",
   "execution_count": 39,
   "id": "8d7d8beb",
   "metadata": {},
   "outputs": [
    {
     "data": {
      "image/png": "[encoded data removed]",
      "text/plain": [
       "<Figure size 432x288 with 1 Axes>"
      ]
     },
     "metadata": {
      "needs_background": "light"
     },
     "output_type": "display_data"
    }
   ],
   "source": [
    "#Sales per outlet size\n",
    "sns.barplot(x='Outlet_Size',y='Item_Outlet_Sales',data=train_bigmart_df,palette='hls',saturation=8)\n",
    "plt.xticks(rotation=90)\n",
    "plt.show()"
   ]
  },
  {
   "cell_type": "code",
   "execution_count": 40,
   "id": "28de6feb",
   "metadata": {},
   "outputs": [
    {
     "data": {
      "image/png": "[encoded data removed]",
      "text/plain": [
       "<Figure size 432x288 with 1 Axes>"
      ]
     },
     "metadata": {
      "needs_background": "light"
     },
     "output_type": "display_data"
    }
   ],
   "source": [
    "#Sales per outlet type\n",
    "sns.barplot(x='Outlet_Type',y='Item_Outlet_Sales',data=train_bigmart_df,palette='hls',saturation=8)\n",
    "plt.xticks(rotation=90)\n",
    "plt.show()"
   ]
  },
  {
   "cell_type": "code",
   "execution_count": 41,
   "id": "b05f028a",
   "metadata": {},
   "outputs": [],
   "source": [
    "# Plot all of the relationship between the target variable and the numirecal variable"
   ]
  },
  {
   "cell_type": "code",
   "execution_count": 42,
   "id": "9173886a",
   "metadata": {},
   "outputs": [
    {
     "data": {
      "image/png": "[encoded data removed]",
      "text/plain": [
       "<Figure size 720x180 with 4 Axes>"
      ]
     },
     "metadata": {
      "needs_background": "light"
     },
     "output_type": "display_data"
    }
   ],
   "source": [
    "sns.pairplot(train_bigmart_df,x_vars=['Item_Weight','Item_Visibility','Item_MRP','Outlet_Establishment_Year'],y_vars='Item_Outlet_Sales');"
   ]
  },
  {
   "cell_type": "markdown",
   "id": "1fc41cca",
   "metadata": {},
   "source": [
    "# Corraltion Matrix"
   ]
  },
  {
   "cell_type": "code",
   "execution_count": 43,
   "id": "b6b93ea3",
   "metadata": {},
   "outputs": [],
   "source": [
    "#check the correlation between Numerical variables and target variable:"
   ]
  },
  {
   "cell_type": "code",
   "execution_count": 44,
   "id": "dc31d1e3",
   "metadata": {},
   "outputs": [
    {
     "data": {
      "text/plain": [
       "Item_Weight                  float64\n",
       "Item_Visibility              float64\n",
       "Item_MRP                     float64\n",
       "Outlet_Establishment_Year      int64\n",
       "Item_Outlet_Sales            float64\n",
       "dtype: object"
      ]
     },
     "execution_count": 44,
     "metadata": {},
     "output_type": "execute_result"
    }
   ],
   "source": [
    "#first get the numerical variables\n",
    "num_features = train_bigmart_df.select_dtypes(include=[np.number])\n",
    "num_features.dtypes"
   ]
  },
  {
   "cell_type": "code",
   "execution_count": 45,
   "id": "c35e4a6e",
   "metadata": {},
   "outputs": [
    {
     "data": {
      "text/html": [
       "<div>\n",
       "<style scoped>\n",
       "    .dataframe tbody tr th:only-of-type {\n",
       "        vertical-align: middle;\n",
       "    }\n",
       "\n",
       "    .dataframe tbody tr th {\n",
       "        vertical-align: top;\n",
       "    }\n",
       "\n",
       "    .dataframe thead th {\n",
       "        text-align: right;\n",
       "    }\n",
       "</style>\n",
       "<table border=\"1\" class=\"dataframe\">\n",
       "  <thead>\n",
       "    <tr style=\"text-align: right;\">\n",
       "      <th></th>\n",
       "      <th>Item_Weight</th>\n",
       "      <th>Item_Visibility</th>\n",
       "      <th>Item_MRP</th>\n",
       "      <th>Outlet_Establishment_Year</th>\n",
       "      <th>Item_Outlet_Sales</th>\n",
       "    </tr>\n",
       "  </thead>\n",
       "  <tbody>\n",
       "    <tr>\n",
       "      <th>Item_Weight</th>\n",
       "      <td>1.000000</td>\n",
       "      <td>-0.017450</td>\n",
       "      <td>0.024756</td>\n",
       "      <td>-0.008301</td>\n",
       "      <td>0.011550</td>\n",
       "    </tr>\n",
       "    <tr>\n",
       "      <th>Item_Visibility</th>\n",
       "      <td>-0.017450</td>\n",
       "      <td>1.000000</td>\n",
       "      <td>-0.005259</td>\n",
       "      <td>-0.078355</td>\n",
       "      <td>-0.134138</td>\n",
       "    </tr>\n",
       "    <tr>\n",
       "      <th>Item_MRP</th>\n",
       "      <td>0.024756</td>\n",
       "      <td>-0.005259</td>\n",
       "      <td>1.000000</td>\n",
       "      <td>0.005020</td>\n",
       "      <td>0.567574</td>\n",
       "    </tr>\n",
       "    <tr>\n",
       "      <th>Outlet_Establishment_Year</th>\n",
       "      <td>-0.008301</td>\n",
       "      <td>-0.078355</td>\n",
       "      <td>0.005020</td>\n",
       "      <td>1.000000</td>\n",
       "      <td>-0.049135</td>\n",
       "    </tr>\n",
       "    <tr>\n",
       "      <th>Item_Outlet_Sales</th>\n",
       "      <td>0.011550</td>\n",
       "      <td>-0.134138</td>\n",
       "      <td>0.567574</td>\n",
       "      <td>-0.049135</td>\n",
       "      <td>1.000000</td>\n",
       "    </tr>\n",
       "  </tbody>\n",
       "</table>\n",
       "</div>"
      ],
      "text/plain": [
       "                           Item_Weight  Item_Visibility  Item_MRP  \\\n",
       "Item_Weight                   1.000000        -0.017450  0.024756   \n",
       "Item_Visibility              -0.017450         1.000000 -0.005259   \n",
       "Item_MRP                      0.024756        -0.005259  1.000000   \n",
       "Outlet_Establishment_Year    -0.008301        -0.078355  0.005020   \n",
       "Item_Outlet_Sales             0.011550        -0.134138  0.567574   \n",
       "\n",
       "                           Outlet_Establishment_Year  Item_Outlet_Sales  \n",
       "Item_Weight                                -0.008301           0.011550  \n",
       "Item_Visibility                            -0.078355          -0.134138  \n",
       "Item_MRP                                    0.005020           0.567574  \n",
       "Outlet_Establishment_Year                   1.000000          -0.049135  \n",
       "Item_Outlet_Sales                          -0.049135           1.000000  "
      ]
     },
     "execution_count": 45,
     "metadata": {},
     "output_type": "execute_result"
    }
   ],
   "source": [
    "#secound :check the Correlation\n",
    "corr=num_features.corr()\n",
    "corr"
   ]
  },
  {
   "cell_type": "code",
   "execution_count": 46,
   "id": "21f15879",
   "metadata": {},
   "outputs": [
    {
     "data": {
      "text/plain": [
       "Item_Outlet_Sales            1.000000\n",
       "Item_MRP                     0.567574\n",
       "Item_Weight                  0.011550\n",
       "Outlet_Establishment_Year   -0.049135\n",
       "Item_Visibility             -0.134138\n",
       "Name: Item_Outlet_Sales, dtype: float64"
      ]
     },
     "execution_count": 46,
     "metadata": {},
     "output_type": "execute_result"
    }
   ],
   "source": [
    "corr['Item_Outlet_Sales'].sort_values(ascending=False)"
   ]
  },
  {
   "cell_type": "code",
   "execution_count": 47,
   "id": "c9be0bfb",
   "metadata": {},
   "outputs": [],
   "source": [
    "#we can see that Item_MRP have the most positive correlation and the Item_Visibility have the lowest correlation \n",
    "#with our target variable. "
   ]
  },
  {
   "cell_type": "code",
   "execution_count": 48,
   "id": "8ef426a4",
   "metadata": {},
   "outputs": [
    {
     "data": {
      "image/png": "[encoded data removed]",
      "text/plain": [
       "<Figure size 1080x360 with 2 Axes>"
      ]
     },
     "metadata": {
      "needs_background": "light"
     },
     "output_type": "display_data"
    }
   ],
   "source": [
    "# Plot the correlations between the variables\n",
    "plt.figure(figsize=(15,5))\n",
    "sns.heatmap(train_bigmart_df.corr(),annot=True,)\n",
    "plt.show()"
   ]
  },
  {
   "cell_type": "markdown",
   "id": "fe8b2bbd",
   "metadata": {},
   "source": [
    "# Drop unnessasery features "
   ]
  },
  {
   "cell_type": "code",
   "execution_count": 49,
   "id": "28c8491f",
   "metadata": {},
   "outputs": [],
   "source": [
    "#drop Item_Identifier\n",
    "#train_bigmart_df.drop(['Item_Identifier','Outlet_Identifier'],axis=1,inplace=True)\n",
    "\n",
    "#drop Outlet_Establishment_Year \n",
    "#train_bigmart_df.drop(['Outlet_Establishment_Year'],axis=1,inplace=True)\n"
   ]
  },
  {
   "cell_type": "markdown",
   "id": "b5f298b3",
   "metadata": {},
   "source": [
    "# Data Preprocessing "
   ]
  },
  {
   "cell_type": "code",
   "execution_count": 50,
   "id": "1fdaba42",
   "metadata": {},
   "outputs": [],
   "source": [
    "#The columns Outlet_Establishment_Year, Item_Identifier and Outlet_Identifier don't have significant values so we will drop them.\n",
    "#All catogrical variables will be Label encoded.\n",
    "#The columns Outlet_Type and Item_Type will be One Hot encoded."
   ]
  },
  {
   "cell_type": "code",
   "execution_count": 51,
   "id": "a7d6abeb",
   "metadata": {},
   "outputs": [
    {
     "data": {
      "text/html": [
       "<div>\n",
       "<style scoped>\n",
       "    .dataframe tbody tr th:only-of-type {\n",
       "        vertical-align: middle;\n",
       "    }\n",
       "\n",
       "    .dataframe tbody tr th {\n",
       "        vertical-align: top;\n",
       "    }\n",
       "\n",
       "    .dataframe thead th {\n",
       "        text-align: right;\n",
       "    }\n",
       "</style>\n",
       "<table border=\"1\" class=\"dataframe\">\n",
       "  <thead>\n",
       "    <tr style=\"text-align: right;\">\n",
       "      <th></th>\n",
       "      <th>Item_Identifier</th>\n",
       "      <th>Item_Weight</th>\n",
       "      <th>Item_Fat_Content</th>\n",
       "      <th>Item_Visibility</th>\n",
       "      <th>Item_Type</th>\n",
       "      <th>Item_MRP</th>\n",
       "      <th>Outlet_Identifier</th>\n",
       "      <th>Outlet_Establishment_Year</th>\n",
       "      <th>Outlet_Size</th>\n",
       "      <th>Outlet_Location_Type</th>\n",
       "      <th>Outlet_Type</th>\n",
       "      <th>Item_Outlet_Sales</th>\n",
       "    </tr>\n",
       "  </thead>\n",
       "  <tbody>\n",
       "    <tr>\n",
       "      <th>0</th>\n",
       "      <td>FDA15</td>\n",
       "      <td>9.30</td>\n",
       "      <td>0</td>\n",
       "      <td>0.016047</td>\n",
       "      <td>Dairy</td>\n",
       "      <td>249.8092</td>\n",
       "      <td>OUT049</td>\n",
       "      <td>1999</td>\n",
       "      <td>1</td>\n",
       "      <td>0</td>\n",
       "      <td>Supermarket Type1</td>\n",
       "      <td>3735.1380</td>\n",
       "    </tr>\n",
       "    <tr>\n",
       "      <th>1</th>\n",
       "      <td>DRC01</td>\n",
       "      <td>5.92</td>\n",
       "      <td>1</td>\n",
       "      <td>0.019278</td>\n",
       "      <td>Soft Drinks</td>\n",
       "      <td>48.2692</td>\n",
       "      <td>OUT018</td>\n",
       "      <td>2009</td>\n",
       "      <td>1</td>\n",
       "      <td>2</td>\n",
       "      <td>Supermarket Type2</td>\n",
       "      <td>443.4228</td>\n",
       "    </tr>\n",
       "    <tr>\n",
       "      <th>2</th>\n",
       "      <td>FDN15</td>\n",
       "      <td>17.50</td>\n",
       "      <td>0</td>\n",
       "      <td>0.016760</td>\n",
       "      <td>Meat</td>\n",
       "      <td>141.6180</td>\n",
       "      <td>OUT049</td>\n",
       "      <td>1999</td>\n",
       "      <td>1</td>\n",
       "      <td>0</td>\n",
       "      <td>Supermarket Type1</td>\n",
       "      <td>2097.2700</td>\n",
       "    </tr>\n",
       "    <tr>\n",
       "      <th>3</th>\n",
       "      <td>FDX07</td>\n",
       "      <td>19.20</td>\n",
       "      <td>1</td>\n",
       "      <td>0.066132</td>\n",
       "      <td>Fruits and Vegetables</td>\n",
       "      <td>182.0950</td>\n",
       "      <td>OUT010</td>\n",
       "      <td>1998</td>\n",
       "      <td>2</td>\n",
       "      <td>2</td>\n",
       "      <td>Grocery Store</td>\n",
       "      <td>732.3800</td>\n",
       "    </tr>\n",
       "    <tr>\n",
       "      <th>4</th>\n",
       "      <td>NCD19</td>\n",
       "      <td>8.93</td>\n",
       "      <td>0</td>\n",
       "      <td>0.066132</td>\n",
       "      <td>Household</td>\n",
       "      <td>53.8614</td>\n",
       "      <td>OUT013</td>\n",
       "      <td>1987</td>\n",
       "      <td>0</td>\n",
       "      <td>2</td>\n",
       "      <td>Supermarket Type1</td>\n",
       "      <td>994.7052</td>\n",
       "    </tr>\n",
       "  </tbody>\n",
       "</table>\n",
       "</div>"
      ],
      "text/plain": [
       "  Item_Identifier  Item_Weight  Item_Fat_Content  Item_Visibility  \\\n",
       "0           FDA15         9.30                 0         0.016047   \n",
       "1           DRC01         5.92                 1         0.019278   \n",
       "2           FDN15        17.50                 0         0.016760   \n",
       "3           FDX07        19.20                 1         0.066132   \n",
       "4           NCD19         8.93                 0         0.066132   \n",
       "\n",
       "               Item_Type  Item_MRP Outlet_Identifier  \\\n",
       "0                  Dairy  249.8092            OUT049   \n",
       "1            Soft Drinks   48.2692            OUT018   \n",
       "2                   Meat  141.6180            OUT049   \n",
       "3  Fruits and Vegetables  182.0950            OUT010   \n",
       "4              Household   53.8614            OUT013   \n",
       "\n",
       "   Outlet_Establishment_Year  Outlet_Size  Outlet_Location_Type  \\\n",
       "0                       1999            1                     0   \n",
       "1                       2009            1                     2   \n",
       "2                       1999            1                     0   \n",
       "3                       1998            2                     2   \n",
       "4                       1987            0                     2   \n",
       "\n",
       "         Outlet_Type  Item_Outlet_Sales  \n",
       "0  Supermarket Type1          3735.1380  \n",
       "1  Supermarket Type2           443.4228  \n",
       "2  Supermarket Type1          2097.2700  \n",
       "3      Grocery Store           732.3800  \n",
       "4  Supermarket Type1           994.7052  "
      ]
     },
     "execution_count": 51,
     "metadata": {},
     "output_type": "execute_result"
    }
   ],
   "source": [
    "# Label encoding\n",
    "\n",
    "le= LabelEncoder()\n",
    "train_bigmart_df['Item_Fat_Content']=le.fit_transform(train_bigmart_df['Item_Fat_Content'])\n",
    "#train_bigmart_df['Item_Type']=le.fit_transform(train_bigmart_df['Item_Type'])\n",
    "train_bigmart_df['Outlet_Size']=le.fit_transform(train_bigmart_df['Outlet_Size'])\n",
    "train_bigmart_df['Outlet_Location_Type']=le.fit_transform(train_bigmart_df['Outlet_Location_Type'])\n",
    "#train_bigmart_df['Outlet_Type']=le.fit_transform(train_bigmart_df['Outlet_Type'])\n",
    "#train_bigmart_df['Outlet_Identifier']=le.fit_transform(train_bigmart_df['Outlet_Identifier'])\n",
    "#train_bigmart_df['Item_Identifier']=le.fit_transform(train_bigmart_df['Item_Identifier'])\n",
    "\n",
    "\n",
    "train_bigmart_df.head()"
   ]
  },
  {
   "cell_type": "code",
   "execution_count": 52,
   "id": "e3f59255",
   "metadata": {},
   "outputs": [],
   "source": [
    "## **\"one hot encoder \"**\n",
    "\n",
    "from sklearn.preprocessing import OneHotEncoder\n",
    "cols = ['Item_Type','Outlet_Type']\n",
    "# Apply one-hot encoder\n",
    "OH_encoder = OneHotEncoder(handle_unknown='ignore', sparse=False)\n",
    "train_bigmart_oh = pd.DataFrame(OH_encoder.fit_transform(train_bigmart_df[cols])).astype('int64')\n",
    "\n",
    "#get feature columns\n",
    "train_bigmart_oh.columns = OH_encoder.get_feature_names(cols)\n",
    "\n",
    "# One-hot encoding removed index; put it back\n",
    "train_bigmart_oh.index = train_bigmart_df.index\n",
    "\n",
    "# Add one-hot encoded columns to our main df new name: train_bigmart_fe, test_bigmart_fe (means feature engeenired) \n",
    "train_bigmart_fe = pd.concat([train_bigmart_df, train_bigmart_oh], axis=1)\n",
    "\n"
   ]
  },
  {
   "cell_type": "code",
   "execution_count": null,
   "id": "c738e16b",
   "metadata": {},
   "outputs": [],
   "source": []
  },
  {
   "cell_type": "code",
   "execution_count": 53,
   "id": "9c4fbd03",
   "metadata": {},
   "outputs": [],
   "source": [
    "#drop Item_Identifier\n",
    "train_bigmart_fe.drop(['Item_Identifier','Outlet_Identifier','Outlet_Establishment_Year','Item_Type','Outlet_Type'],axis=1,inplace=True)\n"
   ]
  },
  {
   "cell_type": "code",
   "execution_count": 54,
   "id": "6fe1b1cc",
   "metadata": {
    "scrolled": true
   },
   "outputs": [
    {
     "data": {
      "text/html": [
       "<div>\n",
       "<style scoped>\n",
       "    .dataframe tbody tr th:only-of-type {\n",
       "        vertical-align: middle;\n",
       "    }\n",
       "\n",
       "    .dataframe tbody tr th {\n",
       "        vertical-align: top;\n",
       "    }\n",
       "\n",
       "    .dataframe thead th {\n",
       "        text-align: right;\n",
       "    }\n",
       "</style>\n",
       "<table border=\"1\" class=\"dataframe\">\n",
       "  <thead>\n",
       "    <tr style=\"text-align: right;\">\n",
       "      <th></th>\n",
       "      <th>Item_Weight</th>\n",
       "      <th>Item_Fat_Content</th>\n",
       "      <th>Item_Visibility</th>\n",
       "      <th>Item_MRP</th>\n",
       "      <th>Outlet_Size</th>\n",
       "      <th>Outlet_Location_Type</th>\n",
       "      <th>Item_Outlet_Sales</th>\n",
       "      <th>Item_Type_Baking Goods</th>\n",
       "      <th>Item_Type_Breads</th>\n",
       "      <th>Item_Type_Breakfast</th>\n",
       "      <th>...</th>\n",
       "      <th>Item_Type_Meat</th>\n",
       "      <th>Item_Type_Others</th>\n",
       "      <th>Item_Type_Seafood</th>\n",
       "      <th>Item_Type_Snack Foods</th>\n",
       "      <th>Item_Type_Soft Drinks</th>\n",
       "      <th>Item_Type_Starchy Foods</th>\n",
       "      <th>Outlet_Type_Grocery Store</th>\n",
       "      <th>Outlet_Type_Supermarket Type1</th>\n",
       "      <th>Outlet_Type_Supermarket Type2</th>\n",
       "      <th>Outlet_Type_Supermarket Type3</th>\n",
       "    </tr>\n",
       "  </thead>\n",
       "  <tbody>\n",
       "    <tr>\n",
       "      <th>0</th>\n",
       "      <td>9.30</td>\n",
       "      <td>0</td>\n",
       "      <td>0.016047</td>\n",
       "      <td>249.8092</td>\n",
       "      <td>1</td>\n",
       "      <td>0</td>\n",
       "      <td>3735.1380</td>\n",
       "      <td>0</td>\n",
       "      <td>0</td>\n",
       "      <td>0</td>\n",
       "      <td>...</td>\n",
       "      <td>0</td>\n",
       "      <td>0</td>\n",
       "      <td>0</td>\n",
       "      <td>0</td>\n",
       "      <td>0</td>\n",
       "      <td>0</td>\n",
       "      <td>0</td>\n",
       "      <td>1</td>\n",
       "      <td>0</td>\n",
       "      <td>0</td>\n",
       "    </tr>\n",
       "    <tr>\n",
       "      <th>1</th>\n",
       "      <td>5.92</td>\n",
       "      <td>1</td>\n",
       "      <td>0.019278</td>\n",
       "      <td>48.2692</td>\n",
       "      <td>1</td>\n",
       "      <td>2</td>\n",
       "      <td>443.4228</td>\n",
       "      <td>0</td>\n",
       "      <td>0</td>\n",
       "      <td>0</td>\n",
       "      <td>...</td>\n",
       "      <td>0</td>\n",
       "      <td>0</td>\n",
       "      <td>0</td>\n",
       "      <td>0</td>\n",
       "      <td>1</td>\n",
       "      <td>0</td>\n",
       "      <td>0</td>\n",
       "      <td>0</td>\n",
       "      <td>1</td>\n",
       "      <td>0</td>\n",
       "    </tr>\n",
       "    <tr>\n",
       "      <th>2</th>\n",
       "      <td>17.50</td>\n",
       "      <td>0</td>\n",
       "      <td>0.016760</td>\n",
       "      <td>141.6180</td>\n",
       "      <td>1</td>\n",
       "      <td>0</td>\n",
       "      <td>2097.2700</td>\n",
       "      <td>0</td>\n",
       "      <td>0</td>\n",
       "      <td>0</td>\n",
       "      <td>...</td>\n",
       "      <td>1</td>\n",
       "      <td>0</td>\n",
       "      <td>0</td>\n",
       "      <td>0</td>\n",
       "      <td>0</td>\n",
       "      <td>0</td>\n",
       "      <td>0</td>\n",
       "      <td>1</td>\n",
       "      <td>0</td>\n",
       "      <td>0</td>\n",
       "    </tr>\n",
       "    <tr>\n",
       "      <th>3</th>\n",
       "      <td>19.20</td>\n",
       "      <td>1</td>\n",
       "      <td>0.066132</td>\n",
       "      <td>182.0950</td>\n",
       "      <td>2</td>\n",
       "      <td>2</td>\n",
       "      <td>732.3800</td>\n",
       "      <td>0</td>\n",
       "      <td>0</td>\n",
       "      <td>0</td>\n",
       "      <td>...</td>\n",
       "      <td>0</td>\n",
       "      <td>0</td>\n",
       "      <td>0</td>\n",
       "      <td>0</td>\n",
       "      <td>0</td>\n",
       "      <td>0</td>\n",
       "      <td>1</td>\n",
       "      <td>0</td>\n",
       "      <td>0</td>\n",
       "      <td>0</td>\n",
       "    </tr>\n",
       "    <tr>\n",
       "      <th>4</th>\n",
       "      <td>8.93</td>\n",
       "      <td>0</td>\n",
       "      <td>0.066132</td>\n",
       "      <td>53.8614</td>\n",
       "      <td>0</td>\n",
       "      <td>2</td>\n",
       "      <td>994.7052</td>\n",
       "      <td>0</td>\n",
       "      <td>0</td>\n",
       "      <td>0</td>\n",
       "      <td>...</td>\n",
       "      <td>0</td>\n",
       "      <td>0</td>\n",
       "      <td>0</td>\n",
       "      <td>0</td>\n",
       "      <td>0</td>\n",
       "      <td>0</td>\n",
       "      <td>0</td>\n",
       "      <td>1</td>\n",
       "      <td>0</td>\n",
       "      <td>0</td>\n",
       "    </tr>\n",
       "  </tbody>\n",
       "</table>\n",
       "<p>5 rows × 27 columns</p>\n",
       "</div>"
      ],
      "text/plain": [
       "   Item_Weight  Item_Fat_Content  Item_Visibility  Item_MRP  Outlet_Size  \\\n",
       "0         9.30                 0         0.016047  249.8092            1   \n",
       "1         5.92                 1         0.019278   48.2692            1   \n",
       "2        17.50                 0         0.016760  141.6180            1   \n",
       "3        19.20                 1         0.066132  182.0950            2   \n",
       "4         8.93                 0         0.066132   53.8614            0   \n",
       "\n",
       "   Outlet_Location_Type  Item_Outlet_Sales  Item_Type_Baking Goods  \\\n",
       "0                     0          3735.1380                       0   \n",
       "1                     2           443.4228                       0   \n",
       "2                     0          2097.2700                       0   \n",
       "3                     2           732.3800                       0   \n",
       "4                     2           994.7052                       0   \n",
       "\n",
       "   Item_Type_Breads  Item_Type_Breakfast  ...  Item_Type_Meat  \\\n",
       "0                 0                    0  ...               0   \n",
       "1                 0                    0  ...               0   \n",
       "2                 0                    0  ...               1   \n",
       "3                 0                    0  ...               0   \n",
       "4                 0                    0  ...               0   \n",
       "\n",
       "   Item_Type_Others  Item_Type_Seafood  Item_Type_Snack Foods  \\\n",
       "0                 0                  0                      0   \n",
       "1                 0                  0                      0   \n",
       "2                 0                  0                      0   \n",
       "3                 0                  0                      0   \n",
       "4                 0                  0                      0   \n",
       "\n",
       "   Item_Type_Soft Drinks  Item_Type_Starchy Foods  Outlet_Type_Grocery Store  \\\n",
       "0                      0                        0                          0   \n",
       "1                      1                        0                          0   \n",
       "2                      0                        0                          0   \n",
       "3                      0                        0                          1   \n",
       "4                      0                        0                          0   \n",
       "\n",
       "   Outlet_Type_Supermarket Type1  Outlet_Type_Supermarket Type2  \\\n",
       "0                              1                              0   \n",
       "1                              0                              1   \n",
       "2                              1                              0   \n",
       "3                              0                              0   \n",
       "4                              1                              0   \n",
       "\n",
       "   Outlet_Type_Supermarket Type3  \n",
       "0                              0  \n",
       "1                              0  \n",
       "2                              0  \n",
       "3                              0  \n",
       "4                              0  \n",
       "\n",
       "[5 rows x 27 columns]"
      ]
     },
     "execution_count": 54,
     "metadata": {},
     "output_type": "execute_result"
    }
   ],
   "source": [
    "train_bigmart_fe.head()"
   ]
  },
  {
   "cell_type": "markdown",
   "id": "4da86d68",
   "metadata": {},
   "source": [
    "# Import libraries to built models"
   ]
  },
  {
   "cell_type": "code",
   "execution_count": 55,
   "id": "acef09e9",
   "metadata": {},
   "outputs": [],
   "source": [
    "#Models\n",
    "from sklearn.model_selection import train_test_split\n",
    "from sklearn.linear_model import LinearRegression, Ridge, Lasso #ordinary linear regression + w/ ridge regularization\n",
    "from sklearn.preprocessing import StandardScaler, PolynomialFeatures\n",
    "from sklearn.model_selection import cross_val_score\n",
    "from sklearn.ensemble import RandomForestRegressor\n",
    "#metrics\n",
    "from sklearn.metrics import mean_absolute_error as MAE\n",
    "from sklearn.metrics import mean_squared_error as MSE\n",
    "from sklearn.metrics import r2_score as R2\n",
    "from sklearn.model_selection  import cross_val_score as CVS"
   ]
  },
  {
   "cell_type": "markdown",
   "id": "d9ac2e5d",
   "metadata": {},
   "source": [
    "# Split the Data"
   ]
  },
  {
   "cell_type": "code",
   "execution_count": 56,
   "id": "fabdb82f",
   "metadata": {},
   "outputs": [],
   "source": [
    "\n",
    "x=train_bigmart_fe.drop('Item_Outlet_Sales',axis=1)\n",
    "y=train_bigmart_fe['Item_Outlet_Sales']\n",
    "\n"
   ]
  },
  {
   "cell_type": "markdown",
   "id": "ba1c6653",
   "metadata": {},
   "source": [
    "# Simple Validation Method: Train / Validation / Test"
   ]
  },
  {
   "cell_type": "code",
   "execution_count": 57,
   "id": "f37c784c",
   "metadata": {},
   "outputs": [
    {
     "data": {
      "text/plain": [
       "((6818, 26), (6818,), (1705, 26), (1705,))"
      ]
     },
     "execution_count": 57,
     "metadata": {},
     "output_type": "execute_result"
    }
   ],
   "source": [
    "#***train/validation/test\n",
    "# hold out 20% of the data for final testing\n",
    "x1, x1_test, y1, y1_test = train_test_split(x, y, test_size=.2, random_state=10)\n",
    "#split train dataset to train data and Validation data\n",
    "x1_train,x1_val,y1_train,y1_val = train_test_split(x,y, test_size=.25, random_state=3) \n",
    "# 80% data will be used for training the model and rest 20% for Validation.\n",
    "x1.shape,y1.shape ,x1_test.shape,y1_test.shape"
   ]
  },
  {
   "cell_type": "code",
   "execution_count": 58,
   "id": "e99d29e0",
   "metadata": {
    "scrolled": true
   },
   "outputs": [
    {
     "data": {
      "text/plain": [
       "((6392, 26), (6392,), (2131, 26), (2131,))"
      ]
     },
     "execution_count": 58,
     "metadata": {},
     "output_type": "execute_result"
    }
   ],
   "source": [
    "x1_train.shape,y1_train.shape,x1_val.shape,y1_val.shape"
   ]
  },
  {
   "cell_type": "code",
   "execution_count": 59,
   "id": "0da17e6c",
   "metadata": {
    "scrolled": false
   },
   "outputs": [],
   "source": [
    "\n",
    "#set up the 3 models we're choosing from:\n",
    "lm = LinearRegression()\n",
    "\n",
    "#Feature scaling for train, val, and test so that we can run our ridge model on each\n",
    "scaler = StandardScaler()\n",
    "\n",
    "x1_train_scaled = scaler.fit_transform(x1_train.values)\n",
    "x1_val_scaled = scaler.transform(x1_val.values)\n",
    "x1_test_scaled = scaler.transform(x1_test.values)\n",
    "\n",
    "lm_reg = Ridge(alpha=1)\n",
    "#Feature transforms for train, val, and test so that we can run our poly model on each\n",
    "poly = PolynomialFeatures(degree=2)\n",
    "\n",
    "x1_train_poly = poly.fit_transform(x1_train.values)\n",
    "x1_val_poly = poly.transform(x1_val.values)\n",
    "x1_test_poly = poly.transform(x1_test.values)\n",
    "lm_poly = LinearRegression()\n",
    "\n"
   ]
  },
  {
   "cell_type": "code",
   "execution_count": 60,
   "id": "8f1b0fa3",
   "metadata": {},
   "outputs": [],
   "source": [
    "#Now we can train, validate, and test."
   ]
  },
  {
   "cell_type": "code",
   "execution_count": 61,
   "id": "16ad3f79",
   "metadata": {},
   "outputs": [
    {
     "name": "stdout",
     "output_type": "stream",
     "text": [
      "Linear Regression on validate R^2: 0.587\n",
      "Ridge Regression validate R^2: 0.587\n",
      "Degree 2 polynomial regression validate R^2: 0.625\n"
     ]
    }
   ],
   "source": [
    "\n",
    "#validate\n",
    "\n",
    "lm.fit(x1_train, y1_train)\n",
    "print(f'Linear Regression on validate R^2: {lm.score(x1_val, y1_val):.3f}')\n",
    "\n",
    "lm_reg.fit(x1_train_scaled, y1_train)\n",
    "print(f'Ridge Regression validate R^2: {lm_reg.score(x1_val_scaled, y1_val):.3f}')\n",
    "\n",
    "lm_poly.fit(x1_train_poly, y1_train)\n",
    "print(f'Degree 2 polynomial regression validate R^2: {lm_poly.score(x1_val_poly, y1_val):.3f}')\n"
   ]
  },
  {
   "cell_type": "code",
   "execution_count": 62,
   "id": "65b042ac",
   "metadata": {},
   "outputs": [],
   "source": [
    "#So having run this validation step, we see that the evidence points to Degree 2 polynomial regression being the best model.\n",
    "#So our validation process lets us **select** that choice of model,\n",
    "#and as our final step we retrain it on the entire chunk of train/val data and see how it does on test data:  "
   ]
  },
  {
   "cell_type": "code",
   "execution_count": 63,
   "id": "0bfc5c43",
   "metadata": {},
   "outputs": [
    {
     "name": "stdout",
     "output_type": "stream",
     "text": [
      "Degree 2 polynomial regression on test R^2: 0.612\n"
     ]
    }
   ],
   "source": [
    "x1_poly = poly.transform(x1.values)\n",
    "lm_poly.fit(x1_poly,y1)\n",
    "print(f'Degree 2 polynomial regression on test R^2: {lm_poly.score(x1_test_poly, y1_test):.3f}')"
   ]
  },
  {
   "cell_type": "code",
   "execution_count": 64,
   "id": "d6f315b7",
   "metadata": {},
   "outputs": [
    {
     "data": {
      "text/plain": [
       "array([4661., 1523., 3226., ..., 1020., 3031., 2749.])"
      ]
     },
     "execution_count": 64,
     "metadata": {},
     "output_type": "execute_result"
    }
   ],
   "source": [
    "y_pred=np.round(lm_poly.predict(x1_test_poly))\n",
    "y_pred"
   ]
  },
  {
   "cell_type": "code",
   "execution_count": 65,
   "id": "a521b159",
   "metadata": {},
   "outputs": [
    {
     "data": {
      "text/html": [
       "<div>\n",
       "<style scoped>\n",
       "    .dataframe tbody tr th:only-of-type {\n",
       "        vertical-align: middle;\n",
       "    }\n",
       "\n",
       "    .dataframe tbody tr th {\n",
       "        vertical-align: top;\n",
       "    }\n",
       "\n",
       "    .dataframe thead th {\n",
       "        text-align: right;\n",
       "    }\n",
       "</style>\n",
       "<table border=\"1\" class=\"dataframe\">\n",
       "  <thead>\n",
       "    <tr style=\"text-align: right;\">\n",
       "      <th></th>\n",
       "      <th>Actual</th>\n",
       "      <th>Predicted</th>\n",
       "    </tr>\n",
       "  </thead>\n",
       "  <tbody>\n",
       "    <tr>\n",
       "      <th>7186</th>\n",
       "      <td>3649.2498</td>\n",
       "      <td>4661.0</td>\n",
       "    </tr>\n",
       "    <tr>\n",
       "      <th>2283</th>\n",
       "      <td>1845.5976</td>\n",
       "      <td>1523.0</td>\n",
       "    </tr>\n",
       "    <tr>\n",
       "      <th>2206</th>\n",
       "      <td>2675.1844</td>\n",
       "      <td>3226.0</td>\n",
       "    </tr>\n",
       "    <tr>\n",
       "      <th>5446</th>\n",
       "      <td>675.7870</td>\n",
       "      <td>1415.0</td>\n",
       "    </tr>\n",
       "    <tr>\n",
       "      <th>6380</th>\n",
       "      <td>3755.1120</td>\n",
       "      <td>3149.0</td>\n",
       "    </tr>\n",
       "    <tr>\n",
       "      <th>...</th>\n",
       "      <td>...</td>\n",
       "      <td>...</td>\n",
       "    </tr>\n",
       "    <tr>\n",
       "      <th>2879</th>\n",
       "      <td>491.3604</td>\n",
       "      <td>313.0</td>\n",
       "    </tr>\n",
       "    <tr>\n",
       "      <th>6094</th>\n",
       "      <td>165.7842</td>\n",
       "      <td>308.0</td>\n",
       "    </tr>\n",
       "    <tr>\n",
       "      <th>1598</th>\n",
       "      <td>1225.0720</td>\n",
       "      <td>1020.0</td>\n",
       "    </tr>\n",
       "    <tr>\n",
       "      <th>8012</th>\n",
       "      <td>3146.5708</td>\n",
       "      <td>3031.0</td>\n",
       "    </tr>\n",
       "    <tr>\n",
       "      <th>7756</th>\n",
       "      <td>2563.3300</td>\n",
       "      <td>2749.0</td>\n",
       "    </tr>\n",
       "  </tbody>\n",
       "</table>\n",
       "<p>1705 rows × 2 columns</p>\n",
       "</div>"
      ],
      "text/plain": [
       "         Actual  Predicted\n",
       "7186  3649.2498     4661.0\n",
       "2283  1845.5976     1523.0\n",
       "2206  2675.1844     3226.0\n",
       "5446   675.7870     1415.0\n",
       "6380  3755.1120     3149.0\n",
       "...         ...        ...\n",
       "2879   491.3604      313.0\n",
       "6094   165.7842      308.0\n",
       "1598  1225.0720     1020.0\n",
       "8012  3146.5708     3031.0\n",
       "7756  2563.3300     2749.0\n",
       "\n",
       "[1705 rows x 2 columns]"
      ]
     },
     "execution_count": 65,
     "metadata": {},
     "output_type": "execute_result"
    }
   ],
   "source": [
    "#Create table to see the difference between the Actual numbers and Predicted numbers\n",
    "df = pd.DataFrame({'Actual': y1_test, 'Predicted': y_pred})\n",
    "df"
   ]
  },
  {
   "cell_type": "code",
   "execution_count": 66,
   "id": "b865082e",
   "metadata": {
    "scrolled": true
   },
   "outputs": [
    {
     "data": {
      "image/png": "[encoded data removed]",
      "text/plain": [
       "<Figure size 216x216 with 1 Axes>"
      ]
     },
     "metadata": {
      "needs_background": "light"
     },
     "output_type": "display_data"
    }
   ],
   "source": [
    "sns.pairplot(data= df, x_vars= 'Actual', y_vars= 'Predicted', size= 3, kind='reg');\n"
   ]
  },
  {
   "cell_type": "code",
   "execution_count": 67,
   "id": "9c5db6f1",
   "metadata": {},
   "outputs": [
    {
     "data": {
      "image/png": "[encoded data removed]",
      "text/plain": [
       "<Figure size 432x288 with 1 Axes>"
      ]
     },
     "metadata": {
      "needs_background": "light"
     },
     "output_type": "display_data"
    }
   ],
   "source": [
    "#Show the difference between the Actual numbers and Predicted numbers\n",
    "sns.distplot(y_pred, label= 'Predicted' );\n",
    "sns.distplot(y1_test, label= 'Actual');\n",
    "plt.legend(loc='upper right')\n",
    "plt.title('Actual and Predicted Score in 2 polynomial regression with(Train\\Validation\\Test) technice');"
   ]
  },
  {
   "cell_type": "code",
   "execution_count": 68,
   "id": "688c6a3a",
   "metadata": {},
   "outputs": [],
   "source": [
    "#**Cross-Validation / Test**#"
   ]
  },
  {
   "cell_type": "code",
   "execution_count": 69,
   "id": "019fbee0",
   "metadata": {},
   "outputs": [
    {
     "data": {
      "text/plain": [
       "array([0.56355279, 0.55706417, 0.54771783, 0.56280939])"
      ]
     },
     "execution_count": 69,
     "metadata": {},
     "output_type": "execute_result"
    }
   ],
   "source": [
    "from sklearn.model_selection import cross_val_score\n",
    "from sklearn.model_selection import KFold\n",
    "lm = LinearRegression()\n",
    "kf = KFold(n_splits=4, shuffle=True, random_state = 71)\n",
    "cross_val_score(lm, x, y, cv=kf, scoring='r2')"
   ]
  },
  {
   "cell_type": "code",
   "execution_count": 70,
   "id": "d1830903",
   "metadata": {},
   "outputs": [
    {
     "name": "stdout",
     "output_type": "stream",
     "text": [
      "0.557786043150241\n"
     ]
    }
   ],
   "source": [
    "print(np.mean(cross_val_score(lm, x, y, cv=kf, scoring='r2')))"
   ]
  },
  {
   "cell_type": "markdown",
   "id": "e16945c1",
   "metadata": {},
   "source": [
    "# split the data into train / test"
   ]
  },
  {
   "cell_type": "code",
   "execution_count": 71,
   "id": "47dce055",
   "metadata": {
    "scrolled": true
   },
   "outputs": [],
   "source": [
    "## split the data into train and test set\n",
    "# hold out 20% of the data for testing\n",
    "x2_train, x2_test, y2_train, y2_test = train_test_split(x, y, test_size=0.2, random_state=0)\n"
   ]
  },
  {
   "cell_type": "code",
   "execution_count": 72,
   "id": "363bd546",
   "metadata": {},
   "outputs": [
    {
     "name": "stdout",
     "output_type": "stream",
     "text": [
      "Linear Regression on test R^2:0.562\n"
     ]
    }
   ],
   "source": [
    "# LinearRegression with(Train\\Test) technice\n",
    "#model\n",
    "lm2 = LinearRegression()\n",
    "#fit(train the model)\n",
    "lm2.fit(x2_train, y2_train)\n",
    "#predict(evaluation on test data)\n",
    "test_data_pred = np.round(lm2.predict(x2_test))\n",
    "#score variables()\n",
    "lr_score=round(R2(y2_test,test_data_pred),3)\n",
    "\n",
    "print(f'Linear Regression on test R^2:{lr_score:.3f}') \n",
    "#{lm2.score(x2_test, y2_test):.3f}')"
   ]
  },
  {
   "cell_type": "code",
   "execution_count": 73,
   "id": "1c0378f8",
   "metadata": {},
   "outputs": [
    {
     "data": {
      "text/html": [
       "<div>\n",
       "<style scoped>\n",
       "    .dataframe tbody tr th:only-of-type {\n",
       "        vertical-align: middle;\n",
       "    }\n",
       "\n",
       "    .dataframe tbody tr th {\n",
       "        vertical-align: top;\n",
       "    }\n",
       "\n",
       "    .dataframe thead th {\n",
       "        text-align: right;\n",
       "    }\n",
       "</style>\n",
       "<table border=\"1\" class=\"dataframe\">\n",
       "  <thead>\n",
       "    <tr style=\"text-align: right;\">\n",
       "      <th></th>\n",
       "      <th>Actual</th>\n",
       "      <th>Predicted</th>\n",
       "    </tr>\n",
       "  </thead>\n",
       "  <tbody>\n",
       "    <tr>\n",
       "      <th>4931</th>\n",
       "      <td>1426.1436</td>\n",
       "      <td>2576.0</td>\n",
       "    </tr>\n",
       "    <tr>\n",
       "      <th>4148</th>\n",
       "      <td>1201.7690</td>\n",
       "      <td>2534.0</td>\n",
       "    </tr>\n",
       "    <tr>\n",
       "      <th>7423</th>\n",
       "      <td>1836.2764</td>\n",
       "      <td>2133.0</td>\n",
       "    </tr>\n",
       "    <tr>\n",
       "      <th>4836</th>\n",
       "      <td>2410.8618</td>\n",
       "      <td>2316.0</td>\n",
       "    </tr>\n",
       "    <tr>\n",
       "      <th>944</th>\n",
       "      <td>1549.9824</td>\n",
       "      <td>3134.0</td>\n",
       "    </tr>\n",
       "    <tr>\n",
       "      <th>...</th>\n",
       "      <td>...</td>\n",
       "      <td>...</td>\n",
       "    </tr>\n",
       "    <tr>\n",
       "      <th>4644</th>\n",
       "      <td>3235.7880</td>\n",
       "      <td>1674.0</td>\n",
       "    </tr>\n",
       "    <tr>\n",
       "      <th>6179</th>\n",
       "      <td>555.2772</td>\n",
       "      <td>1021.0</td>\n",
       "    </tr>\n",
       "    <tr>\n",
       "      <th>1861</th>\n",
       "      <td>2885.5772</td>\n",
       "      <td>4300.0</td>\n",
       "    </tr>\n",
       "    <tr>\n",
       "      <th>3598</th>\n",
       "      <td>218.3824</td>\n",
       "      <td>-1034.0</td>\n",
       "    </tr>\n",
       "    <tr>\n",
       "      <th>1523</th>\n",
       "      <td>5478.2024</td>\n",
       "      <td>5412.0</td>\n",
       "    </tr>\n",
       "  </tbody>\n",
       "</table>\n",
       "<p>1705 rows × 2 columns</p>\n",
       "</div>"
      ],
      "text/plain": [
       "         Actual  Predicted\n",
       "4931  1426.1436     2576.0\n",
       "4148  1201.7690     2534.0\n",
       "7423  1836.2764     2133.0\n",
       "4836  2410.8618     2316.0\n",
       "944   1549.9824     3134.0\n",
       "...         ...        ...\n",
       "4644  3235.7880     1674.0\n",
       "6179   555.2772     1021.0\n",
       "1861  2885.5772     4300.0\n",
       "3598   218.3824    -1034.0\n",
       "1523  5478.2024     5412.0\n",
       "\n",
       "[1705 rows x 2 columns]"
      ]
     },
     "execution_count": 73,
     "metadata": {},
     "output_type": "execute_result"
    }
   ],
   "source": [
    "#Create table to see the difference between the Actual numbers and Predicted numbers\n",
    "df2 = pd.DataFrame({'Actual': y2_test, 'Predicted': test_data_pred})\n",
    "df2"
   ]
  },
  {
   "cell_type": "code",
   "execution_count": null,
   "id": "d58a964d",
   "metadata": {},
   "outputs": [],
   "source": []
  },
  {
   "cell_type": "code",
   "execution_count": 74,
   "id": "39ad52e9",
   "metadata": {},
   "outputs": [
    {
     "data": {
      "image/png": "[encoded data removed]",
      "text/plain": [
       "<Figure size 216x216 with 1 Axes>"
      ]
     },
     "metadata": {
      "needs_background": "light"
     },
     "output_type": "display_data"
    }
   ],
   "source": [
    "sns.pairplot(data= df2, x_vars= 'Actual', y_vars= 'Predicted', size= 3, kind='reg');"
   ]
  },
  {
   "cell_type": "code",
   "execution_count": 75,
   "id": "60ef61c8",
   "metadata": {},
   "outputs": [
    {
     "data": {
      "image/png": "[encoded data removed]",
      "text/plain": [
       "<Figure size 432x288 with 1 Axes>"
      ]
     },
     "metadata": {
      "needs_background": "light"
     },
     "output_type": "display_data"
    }
   ],
   "source": [
    "#Show the difference between the Actual numbers and Predicted numbers\n",
    "sns.distplot(test_data_pred, label= 'Predicted' );\n",
    "sns.distplot(y2_test, label= 'Actual');\n",
    "plt.legend(loc='upper right')\n",
    "plt.title('Actual and Predicted Score in Linear regression with(Train\\Test) technice');"
   ]
  },
  {
   "cell_type": "code",
   "execution_count": 76,
   "id": "bd4407a2",
   "metadata": {},
   "outputs": [
    {
     "name": "stdout",
     "output_type": "stream",
     "text": [
      "Random Forest Regression on test R^2: 0.589\n",
      "\n"
     ]
    }
   ],
   "source": [
    "#RandomForestRegressor\n",
    "#x2_train, x2_test, y2_train, y2_test = train_test_split(x, y, test_size=0.4, random_state=0)\n",
    "#model\n",
    "RFR= RandomForestRegressor(n_estimators=200,max_depth=5, min_samples_leaf=100,n_jobs=4,random_state=101)\n",
    "#fit\n",
    "RFR.fit(x2_train, y2_train)\n",
    "#predict\n",
    "RFR_test_data_predict = RFR.predict(x2_test)\n",
    "\n",
    "#score variables\n",
    "RFR_score=round(R2(y2_test,RFR_test_data_predict),3)\n",
    "\n",
    "print(f\"Random Forest Regression on test R^2: {RFR_score}\\n\")\n"
   ]
  },
  {
   "cell_type": "code",
   "execution_count": 77,
   "id": "0a5ceac5",
   "metadata": {},
   "outputs": [
    {
     "data": {
      "text/html": [
       "<div>\n",
       "<style scoped>\n",
       "    .dataframe tbody tr th:only-of-type {\n",
       "        vertical-align: middle;\n",
       "    }\n",
       "\n",
       "    .dataframe tbody tr th {\n",
       "        vertical-align: top;\n",
       "    }\n",
       "\n",
       "    .dataframe thead th {\n",
       "        text-align: right;\n",
       "    }\n",
       "</style>\n",
       "<table border=\"1\" class=\"dataframe\">\n",
       "  <thead>\n",
       "    <tr style=\"text-align: right;\">\n",
       "      <th></th>\n",
       "      <th>Actual</th>\n",
       "      <th>prediction</th>\n",
       "    </tr>\n",
       "  </thead>\n",
       "  <tbody>\n",
       "    <tr>\n",
       "      <th>4931</th>\n",
       "      <td>1426.1436</td>\n",
       "      <td>2523.423184</td>\n",
       "    </tr>\n",
       "    <tr>\n",
       "      <th>4148</th>\n",
       "      <td>1201.7690</td>\n",
       "      <td>1233.255219</td>\n",
       "    </tr>\n",
       "    <tr>\n",
       "      <th>7423</th>\n",
       "      <td>1836.2764</td>\n",
       "      <td>2063.481158</td>\n",
       "    </tr>\n",
       "    <tr>\n",
       "      <th>4836</th>\n",
       "      <td>2410.8618</td>\n",
       "      <td>2149.796387</td>\n",
       "    </tr>\n",
       "    <tr>\n",
       "      <th>944</th>\n",
       "      <td>1549.9824</td>\n",
       "      <td>2998.886437</td>\n",
       "    </tr>\n",
       "    <tr>\n",
       "      <th>...</th>\n",
       "      <td>...</td>\n",
       "      <td>...</td>\n",
       "    </tr>\n",
       "    <tr>\n",
       "      <th>4644</th>\n",
       "      <td>3235.7880</td>\n",
       "      <td>1900.525555</td>\n",
       "    </tr>\n",
       "    <tr>\n",
       "      <th>6179</th>\n",
       "      <td>555.2772</td>\n",
       "      <td>505.386928</td>\n",
       "    </tr>\n",
       "    <tr>\n",
       "      <th>1861</th>\n",
       "      <td>2885.5772</td>\n",
       "      <td>3962.854464</td>\n",
       "    </tr>\n",
       "    <tr>\n",
       "      <th>3598</th>\n",
       "      <td>218.3824</td>\n",
       "      <td>193.355241</td>\n",
       "    </tr>\n",
       "    <tr>\n",
       "      <th>1523</th>\n",
       "      <td>5478.2024</td>\n",
       "      <td>5705.859013</td>\n",
       "    </tr>\n",
       "  </tbody>\n",
       "</table>\n",
       "<p>1705 rows × 2 columns</p>\n",
       "</div>"
      ],
      "text/plain": [
       "         Actual   prediction\n",
       "4931  1426.1436  2523.423184\n",
       "4148  1201.7690  1233.255219\n",
       "7423  1836.2764  2063.481158\n",
       "4836  2410.8618  2149.796387\n",
       "944   1549.9824  2998.886437\n",
       "...         ...          ...\n",
       "4644  3235.7880  1900.525555\n",
       "6179   555.2772   505.386928\n",
       "1861  2885.5772  3962.854464\n",
       "3598   218.3824   193.355241\n",
       "1523  5478.2024  5705.859013\n",
       "\n",
       "[1705 rows x 2 columns]"
      ]
     },
     "execution_count": 77,
     "metadata": {},
     "output_type": "execute_result"
    }
   ],
   "source": [
    "Random_Forest_Regressor=pd.DataFrame({'Actual':y2_test,'prediction':RFR_test_data_predict})\n",
    "Random_Forest_Regressor"
   ]
  },
  {
   "cell_type": "code",
   "execution_count": 78,
   "id": "75e17020",
   "metadata": {
    "scrolled": true
   },
   "outputs": [
    {
     "data": {
      "image/png": "[encoded data removed]",
      "text/plain": [
       "<Figure size 432x288 with 1 Axes>"
      ]
     },
     "metadata": {
      "needs_background": "light"
     },
     "output_type": "display_data"
    }
   ],
   "source": [
    "#Show the difference between the Actual numbers and Predicted numbers\n",
    "sns.distplot(RFR_test_data_predict, label= 'Predicted' );\n",
    "sns.distplot(y2_test, label= 'Actual');\n",
    "plt.legend(loc='upper right')\n",
    "plt.title('Actual and Predicted Score in Random Forest regression with(Train\\Test) technice');"
   ]
  },
  {
   "cell_type": "code",
   "execution_count": 79,
   "id": "7c7b822b",
   "metadata": {},
   "outputs": [],
   "source": [
    "# Cross-Validation / Test"
   ]
  },
  {
   "cell_type": "code",
   "execution_count": 80,
   "id": "5a1342bd",
   "metadata": {},
   "outputs": [],
   "source": [
    "#polynomial "
   ]
  },
  {
   "cell_type": "code",
   "execution_count": 81,
   "id": "967766f6",
   "metadata": {},
   "outputs": [],
   "source": [
    "#pip install xgboost"
   ]
  },
  {
   "cell_type": "code",
   "execution_count": 82,
   "id": "ca4f8901",
   "metadata": {},
   "outputs": [],
   "source": [
    "#import xgboost as xgb"
   ]
  },
  {
   "cell_type": "code",
   "execution_count": 83,
   "id": "5b7b5cde",
   "metadata": {},
   "outputs": [],
   "source": [
    "#from xgboost import XGBRegressor"
   ]
  },
  {
   "cell_type": "code",
   "execution_count": 84,
   "id": "757a39f3",
   "metadata": {},
   "outputs": [],
   "source": [
    "\n",
    "#model\n",
    "#import xgboost \n",
    "#from xgboost import XGBRegressor\n",
    "#XGB=XGBRFRegressor()\n",
    "#fit(train the model)\n",
    "#XGB.fit(x2_train, y2_train)\n",
    "#predict(evaluation on test data)\n",
    "#XGB_test_data_pred = np.round(XGB.predict(x2_test))\n",
    "#score variables()\n",
    "#XGB_score=round(R2(y2_test,XGB_test_data_pred),3)\n",
    "\n",
    "#print(f'XGBoost Regression on test R^2:{XGB_score:.3f}') \n"
   ]
  },
  {
   "cell_type": "code",
   "execution_count": 85,
   "id": "cf8012a5",
   "metadata": {},
   "outputs": [],
   "source": [
    "#XGB_Regressor=pd.DataFrame({'Actual':y2_test,'prediction':XGB_test_data_predict})\n",
    "#XGB_Forest_Regressor"
   ]
  },
  {
   "cell_type": "code",
   "execution_count": 86,
   "id": "5d8167ed",
   "metadata": {},
   "outputs": [],
   "source": [
    "#sns.pairplot(data= XGB_Regressor, x_vars= 'Actual', y_vars= 'Predicted', size= 3, kind='reg');"
   ]
  },
  {
   "cell_type": "code",
   "execution_count": 87,
   "id": "4cf7740c",
   "metadata": {},
   "outputs": [
    {
     "name": "stdout",
     "output_type": "stream",
     "text": [
      "Degree 2 polynomial regression on Test R^2: 0.595\n"
     ]
    },
    {
     "data": {
      "text/plain": [
       "array([ 2582.,  2518.,  2140., ...,  4212., -1034.,  5439.])"
      ]
     },
     "execution_count": 87,
     "metadata": {},
     "output_type": "execute_result"
    }
   ],
   "source": [
    "#x2_train, x2_test, y2_train, y2_test = train_test_split(x, y, test_size=0.4, random_state=0)\n",
    "#Trying Polynomial Regression \n",
    "#Feature transforms for train and test so that we can run our poly model on each\n",
    "\n",
    "x2_train_scaled = scaler.fit_transform(x2_train)\n",
    "x2_test_scaled = scaler.transform(x2_test)\n",
    "poly = PolynomialFeatures(degree=2) \n",
    "\n",
    "x2_train_poly = poly.fit_transform(x2_train_scaled)\n",
    "x2_test_poly = poly.transform(x2_test_scaled)\n",
    "\n",
    "lm_poly2 = LinearRegression()\n",
    "lm_poly2.fit(x2_train_poly, y2_train)\n",
    "##print(f'Degree 2 polynomial regression on train R^2: {lm_poly2.score(x2_train_poly, y2_train):.3f}')\n",
    "print(f'Degree 2 polynomial regression on Test R^2: {lm_poly2.score(x2_test_poly, y2_test):.3f}')\n",
    "y4_pred = np.round(lm_reg.predict(x2_test_scaled))\n",
    "y4_pred"
   ]
  },
  {
   "cell_type": "code",
   "execution_count": null,
   "id": "34cfff1d",
   "metadata": {},
   "outputs": [],
   "source": []
  },
  {
   "cell_type": "code",
   "execution_count": 88,
   "id": "d32d00ab",
   "metadata": {},
   "outputs": [],
   "source": [
    "#Hyper Parameter Tuning"
   ]
  },
  {
   "cell_type": "code",
   "execution_count": 89,
   "id": "f689fe3a",
   "metadata": {},
   "outputs": [
    {
     "name": "stdout",
     "output_type": "stream",
     "text": [
      "Fitting 2 folds for each of 3 candidates, totalling 6 fits\n",
      "Best: 0.543 using {'n_estimators': 1000}\n",
      "0.503 (0.004) with: {'n_estimators': 10}\n",
      "0.538 (0.001) with: {'n_estimators': 100}\n",
      "0.543 (0.001) with: {'n_estimators': 1000}\n"
     ]
    }
   ],
   "source": [
    "from sklearn.model_selection import RepeatedStratifiedKFold\n",
    "from sklearn.model_selection import GridSearchCV\n",
    "\n",
    "# define models and parameters\n",
    "model = RandomForestRegressor()\n",
    "n_estimators = [10, 100, 1000]#number of trees witch will be part of the model\n",
    "max_depth=range(1,31)\n",
    "min_samples_leaf=np.linspace(0.1, 1.0)\n",
    "max_features=[\"auto\", \"sqrt\", \"log2\"]\n",
    "min_samples_split=np.linspace(0.1, 1.0, 10)\n",
    "\n",
    "# define grid search\n",
    "grid = dict(n_estimators=n_estimators)\n",
    "#cv = RepeatedStratifiedKFold(n_splits=5, n_repeats=3, random_state=101)\n",
    "\n",
    "grid_search_forest = GridSearchCV(estimator=model, param_grid=grid, n_jobs=-1, \n",
    "                           scoring='r2',error_score=0,verbose=2,cv=2)\n",
    "#standarization\n",
    "#from sklearn.preprocessing import StandardScaler\n",
    "sc= StandardScaler()\n",
    "x2_train_std=sc.fit_transform(x2_train)\n",
    "x2_test_std= sc.transform(x2_test)\n",
    "\n",
    "grid_search_forest.fit(x2_train_std, y2_train)\n",
    "\n",
    "# summarize results\n",
    "print(f\"Best: {grid_search_forest.best_score_:.3f} using {grid_search_forest.best_params_}\")\n",
    "means = grid_search_forest.cv_results_['mean_test_score']\n",
    "stds = grid_search_forest.cv_results_['std_test_score']\n",
    "params = grid_search_forest.cv_results_['params']\n",
    "\n",
    "for mean, stdev, param in zip(means, stds, params):\n",
    "    print(f\"{mean:.3f} ({stdev:.3f}) with: {param}\")"
   ]
  },
  {
   "cell_type": "code",
   "execution_count": 90,
   "id": "aa6c6c83",
   "metadata": {},
   "outputs": [
    {
     "data": {
      "text/plain": [
       "{'n_estimators': 1000}"
      ]
     },
     "execution_count": 90,
     "metadata": {},
     "output_type": "execute_result"
    }
   ],
   "source": [
    "grid_search_forest.best_params_\n"
   ]
  },
  {
   "cell_type": "code",
   "execution_count": 91,
   "id": "c9140f05",
   "metadata": {},
   "outputs": [
    {
     "data": {
      "text/plain": [
       "0.5428084460128119"
      ]
     },
     "execution_count": 91,
     "metadata": {},
     "output_type": "execute_result"
    }
   ],
   "source": [
    "grid_search_forest.best_score_\n"
   ]
  },
  {
   "cell_type": "code",
   "execution_count": 92,
   "id": "aba9c3b2",
   "metadata": {},
   "outputs": [],
   "source": [
    "Y_pred_rf_grid=grid_search_forest.predict(x2_test_std)\n"
   ]
  },
  {
   "cell_type": "code",
   "execution_count": 93,
   "id": "820948d1",
   "metadata": {},
   "outputs": [
    {
     "name": "stdout",
     "output_type": "stream",
     "text": [
      "Random Forest Regression with Hyper Parameter Tuning on test R^2: 0.54\n",
      "\n"
     ]
    }
   ],
   "source": [
    "#r2_score(y2_test,Y_pred_rf_grid)\n",
    "HPRF_score=round(R2(y2_test,Y_pred_rf_grid),3)\n",
    "\n",
    "print(f\"Random Forest Regression with Hyper Parameter Tuning on test R^2: {HPRF_score}\\n\")\n"
   ]
  },
  {
   "cell_type": "code",
   "execution_count": 94,
   "id": "afae407c",
   "metadata": {},
   "outputs": [
    {
     "name": "stdout",
     "output_type": "stream",
     "text": [
      "Lasso Regression on test R^2:0.563\n"
     ]
    }
   ],
   "source": [
    "# lasso with(Train\\Test) technice\n",
    "\n",
    "#model\n",
    "la = Lasso()\n",
    "#fit(train the model)\n",
    "la.fit(x2_train, y2_train)\n",
    "#predict(evaluation on test data)\n",
    "la_test_data_pred = np.round(la.predict(x2_test))\n",
    "#score variables()\n",
    "la_score=round(R2(y2_test,la_test_data_pred),3)\n",
    "\n",
    "print(f'Lasso Regression on test R^2:{la_score:.3f}') "
   ]
  },
  {
   "cell_type": "code",
   "execution_count": null,
   "id": "0d665814",
   "metadata": {},
   "outputs": [],
   "source": []
  }
 ],
 "metadata": {
  "kernelspec": {
   "display_name": "Python 3 (ipykernel)",
   "language": "python",
   "name": "python3"
  },
  "language_info": {
   "codemirror_mode": {
    "name": "ipython",
    "version": 3
   },
   "file_extension": ".py",
   "mimetype": "text/x-python",
   "name": "python",
   "nbconvert_exporter": "python",
   "pygments_lexer": "ipython3",
   "version": "3.9.7"
  }
 },
 "nbformat": 4,
 "nbformat_minor": 5
}
