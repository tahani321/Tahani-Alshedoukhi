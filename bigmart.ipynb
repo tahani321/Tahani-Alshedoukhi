{
 "cells": [
  {
   "cell_type": "markdown",
   "id": "0256e6db",
   "metadata": {},
   "source": [
    "# Libraries"
   ]
  },
  {
   "cell_type": "code",
   "execution_count": 1,
   "id": "61f682e7",
   "metadata": {},
   "outputs": [],
   "source": [
    "#Step 1: \n",
    "#importing the libraries\n",
    "import numpy as np # linear algebra\n",
    "import pandas as pd # data processing\n",
    "import warnings# warning filter\n",
    "warnings.filterwarnings('ignore')"
   ]
  },
  {
   "cell_type": "code",
   "execution_count": 2,
   "id": "dde0fbe6",
   "metadata": {},
   "outputs": [],
   "source": [
    "# to visualize and show charts\n",
    "import seaborn as sns\n",
    "import matplotlib.pyplot as plt\n",
    "%matplotlib inline\n",
    "##feature engineering\n",
    "from sklearn.preprocessing import LabelEncoder\n",
    "from sklearn.model_selection import train_test_split\n",
    "from sklearn.linear_model import LinearRegression, Ridge #ordinary linear regression + w/ ridge regularization\n",
    "#from sklearn import \n",
    "#from xgboost import XGBRegressor\n"
   ]
  },
  {
   "cell_type": "markdown",
   "id": "54baa8cf",
   "metadata": {},
   "source": [
    "# Importing Data  "
   ]
  },
  {
   "cell_type": "code",
   "execution_count": 3,
   "id": "15025875",
   "metadata": {},
   "outputs": [
    {
     "data": {
      "text/html": [
       "<div>\n",
       "<style scoped>\n",
       "    .dataframe tbody tr th:only-of-type {\n",
       "        vertical-align: middle;\n",
       "    }\n",
       "\n",
       "    .dataframe tbody tr th {\n",
       "        vertical-align: top;\n",
       "    }\n",
       "\n",
       "    .dataframe thead th {\n",
       "        text-align: right;\n",
       "    }\n",
       "</style>\n",
       "<table border=\"1\" class=\"dataframe\">\n",
       "  <thead>\n",
       "    <tr style=\"text-align: right;\">\n",
       "      <th></th>\n",
       "      <th>Item_Identifier</th>\n",
       "      <th>Item_Weight</th>\n",
       "      <th>Item_Fat_Content</th>\n",
       "      <th>Item_Visibility</th>\n",
       "      <th>Item_Type</th>\n",
       "      <th>Item_MRP</th>\n",
       "      <th>Outlet_Identifier</th>\n",
       "      <th>Outlet_Establishment_Year</th>\n",
       "      <th>Outlet_Size</th>\n",
       "      <th>Outlet_Location_Type</th>\n",
       "      <th>Outlet_Type</th>\n",
       "      <th>Item_Outlet_Sales</th>\n",
       "    </tr>\n",
       "  </thead>\n",
       "  <tbody>\n",
       "    <tr>\n",
       "      <th>0</th>\n",
       "      <td>FDA15</td>\n",
       "      <td>9.30</td>\n",
       "      <td>Low Fat</td>\n",
       "      <td>0.016047</td>\n",
       "      <td>Dairy</td>\n",
       "      <td>249.8092</td>\n",
       "      <td>OUT049</td>\n",
       "      <td>1999</td>\n",
       "      <td>Medium</td>\n",
       "      <td>Tier 1</td>\n",
       "      <td>Supermarket Type1</td>\n",
       "      <td>3735.1380</td>\n",
       "    </tr>\n",
       "    <tr>\n",
       "      <th>1</th>\n",
       "      <td>DRC01</td>\n",
       "      <td>5.92</td>\n",
       "      <td>Regular</td>\n",
       "      <td>0.019278</td>\n",
       "      <td>Soft Drinks</td>\n",
       "      <td>48.2692</td>\n",
       "      <td>OUT018</td>\n",
       "      <td>2009</td>\n",
       "      <td>Medium</td>\n",
       "      <td>Tier 3</td>\n",
       "      <td>Supermarket Type2</td>\n",
       "      <td>443.4228</td>\n",
       "    </tr>\n",
       "  </tbody>\n",
       "</table>\n",
       "</div>"
      ],
      "text/plain": [
       "  Item_Identifier  Item_Weight Item_Fat_Content  Item_Visibility    Item_Type  \\\n",
       "0           FDA15         9.30          Low Fat         0.016047        Dairy   \n",
       "1           DRC01         5.92          Regular         0.019278  Soft Drinks   \n",
       "\n",
       "   Item_MRP Outlet_Identifier  Outlet_Establishment_Year Outlet_Size  \\\n",
       "0  249.8092            OUT049                       1999      Medium   \n",
       "1   48.2692            OUT018                       2009      Medium   \n",
       "\n",
       "  Outlet_Location_Type        Outlet_Type  Item_Outlet_Sales  \n",
       "0               Tier 1  Supermarket Type1          3735.1380  \n",
       "1               Tier 3  Supermarket Type2           443.4228  "
      ]
     },
     "execution_count": 3,
     "metadata": {},
     "output_type": "execute_result"
    }
   ],
   "source": [
    "#step 2: Reading the dataset\n",
    "train_bigmart_df=pd.read_csv('C:/Users/DELL/Desktop/ML/MyProject/Train.csv')\n",
    "test_bigmart_df=pd.read_csv('C:/Users/DELL/Desktop/ML/MyProject/Test.csv')\n",
    "train_bigmart_df.head(2)"
   ]
  },
  {
   "cell_type": "code",
   "execution_count": 4,
   "id": "ecb78f2c",
   "metadata": {},
   "outputs": [
    {
     "data": {
      "text/html": [
       "<div>\n",
       "<style scoped>\n",
       "    .dataframe tbody tr th:only-of-type {\n",
       "        vertical-align: middle;\n",
       "    }\n",
       "\n",
       "    .dataframe tbody tr th {\n",
       "        vertical-align: top;\n",
       "    }\n",
       "\n",
       "    .dataframe thead th {\n",
       "        text-align: right;\n",
       "    }\n",
       "</style>\n",
       "<table border=\"1\" class=\"dataframe\">\n",
       "  <thead>\n",
       "    <tr style=\"text-align: right;\">\n",
       "      <th></th>\n",
       "      <th>Item_Identifier</th>\n",
       "      <th>Item_Weight</th>\n",
       "      <th>Item_Fat_Content</th>\n",
       "      <th>Item_Visibility</th>\n",
       "      <th>Item_Type</th>\n",
       "      <th>Item_MRP</th>\n",
       "      <th>Outlet_Identifier</th>\n",
       "      <th>Outlet_Establishment_Year</th>\n",
       "      <th>Outlet_Size</th>\n",
       "      <th>Outlet_Location_Type</th>\n",
       "      <th>Outlet_Type</th>\n",
       "    </tr>\n",
       "  </thead>\n",
       "  <tbody>\n",
       "    <tr>\n",
       "      <th>0</th>\n",
       "      <td>FDW58</td>\n",
       "      <td>20.75</td>\n",
       "      <td>Low Fat</td>\n",
       "      <td>0.007565</td>\n",
       "      <td>Snack Foods</td>\n",
       "      <td>107.8622</td>\n",
       "      <td>OUT049</td>\n",
       "      <td>1999</td>\n",
       "      <td>Medium</td>\n",
       "      <td>Tier 1</td>\n",
       "      <td>Supermarket Type1</td>\n",
       "    </tr>\n",
       "    <tr>\n",
       "      <th>1</th>\n",
       "      <td>FDW14</td>\n",
       "      <td>8.30</td>\n",
       "      <td>reg</td>\n",
       "      <td>0.038428</td>\n",
       "      <td>Dairy</td>\n",
       "      <td>87.3198</td>\n",
       "      <td>OUT017</td>\n",
       "      <td>2007</td>\n",
       "      <td>NaN</td>\n",
       "      <td>Tier 2</td>\n",
       "      <td>Supermarket Type1</td>\n",
       "    </tr>\n",
       "  </tbody>\n",
       "</table>\n",
       "</div>"
      ],
      "text/plain": [
       "  Item_Identifier  Item_Weight Item_Fat_Content  Item_Visibility    Item_Type  \\\n",
       "0           FDW58        20.75          Low Fat         0.007565  Snack Foods   \n",
       "1           FDW14         8.30              reg         0.038428        Dairy   \n",
       "\n",
       "   Item_MRP Outlet_Identifier  Outlet_Establishment_Year Outlet_Size  \\\n",
       "0  107.8622            OUT049                       1999      Medium   \n",
       "1   87.3198            OUT017                       2007         NaN   \n",
       "\n",
       "  Outlet_Location_Type        Outlet_Type  \n",
       "0               Tier 1  Supermarket Type1  \n",
       "1               Tier 2  Supermarket Type1  "
      ]
     },
     "execution_count": 4,
     "metadata": {},
     "output_type": "execute_result"
    }
   ],
   "source": [
    "test_bigmart_df.head(2)"
   ]
  },
  {
   "cell_type": "markdown",
   "id": "876b8800",
   "metadata": {},
   "source": [
    "# Exploratory Data Analysis (EDA)"
   ]
  },
  {
   "cell_type": "code",
   "execution_count": 5,
   "id": "b1b5dc74",
   "metadata": {
    "scrolled": false
   },
   "outputs": [
    {
     "name": "stdout",
     "output_type": "stream",
     "text": [
      "<class 'pandas.core.frame.DataFrame'>\n",
      "RangeIndex: 8523 entries, 0 to 8522\n",
      "Data columns (total 12 columns):\n",
      " #   Column                     Non-Null Count  Dtype  \n",
      "---  ------                     --------------  -----  \n",
      " 0   Item_Identifier            8523 non-null   object \n",
      " 1   Item_Weight                7060 non-null   float64\n",
      " 2   Item_Fat_Content           8523 non-null   object \n",
      " 3   Item_Visibility            8523 non-null   float64\n",
      " 4   Item_Type                  8523 non-null   object \n",
      " 5   Item_MRP                   8523 non-null   float64\n",
      " 6   Outlet_Identifier          8523 non-null   object \n",
      " 7   Outlet_Establishment_Year  8523 non-null   int64  \n",
      " 8   Outlet_Size                6113 non-null   object \n",
      " 9   Outlet_Location_Type       8523 non-null   object \n",
      " 10  Outlet_Type                8523 non-null   object \n",
      " 11  Item_Outlet_Sales          8523 non-null   float64\n",
      "dtypes: float64(4), int64(1), object(7)\n",
      "memory usage: 799.2+ KB\n"
     ]
    }
   ],
   "source": [
    "#printing information including the index dtype and columns, non-null values and memory usage.\n",
    "#train dataset\n",
    "train_bigmart_df.info() "
   ]
  },
  {
   "cell_type": "code",
   "execution_count": 6,
   "id": "0d70b9ad",
   "metadata": {},
   "outputs": [
    {
     "name": "stdout",
     "output_type": "stream",
     "text": [
      "<class 'pandas.core.frame.DataFrame'>\n",
      "RangeIndex: 5681 entries, 0 to 5680\n",
      "Data columns (total 11 columns):\n",
      " #   Column                     Non-Null Count  Dtype  \n",
      "---  ------                     --------------  -----  \n",
      " 0   Item_Identifier            5681 non-null   object \n",
      " 1   Item_Weight                4705 non-null   float64\n",
      " 2   Item_Fat_Content           5681 non-null   object \n",
      " 3   Item_Visibility            5681 non-null   float64\n",
      " 4   Item_Type                  5681 non-null   object \n",
      " 5   Item_MRP                   5681 non-null   float64\n",
      " 6   Outlet_Identifier          5681 non-null   object \n",
      " 7   Outlet_Establishment_Year  5681 non-null   int64  \n",
      " 8   Outlet_Size                4075 non-null   object \n",
      " 9   Outlet_Location_Type       5681 non-null   object \n",
      " 10  Outlet_Type                5681 non-null   object \n",
      "dtypes: float64(3), int64(1), object(7)\n",
      "memory usage: 488.3+ KB\n"
     ]
    }
   ],
   "source": [
    "#test dataset\n",
    "test_bigmart_df.info()"
   ]
  },
  {
   "cell_type": "code",
   "execution_count": 7,
   "id": "7a805ad3",
   "metadata": {},
   "outputs": [],
   "source": [
    "#From .info() we can see that:\n",
    "# Item_Weight and Outlet_Size in test and train data have non values.\n",
    "#to solve this problem :\n",
    "#Item_Weight: sense it is numaric I will replace it by the mean value.\n",
    "#Outlet_Size: sense it is catagoric I will replace it by the mode value."
   ]
  },
  {
   "cell_type": "code",
   "execution_count": 8,
   "id": "86108324",
   "metadata": {},
   "outputs": [
    {
     "data": {
      "text/html": [
       "<div>\n",
       "<style scoped>\n",
       "    .dataframe tbody tr th:only-of-type {\n",
       "        vertical-align: middle;\n",
       "    }\n",
       "\n",
       "    .dataframe tbody tr th {\n",
       "        vertical-align: top;\n",
       "    }\n",
       "\n",
       "    .dataframe thead th {\n",
       "        text-align: right;\n",
       "    }\n",
       "</style>\n",
       "<table border=\"1\" class=\"dataframe\">\n",
       "  <thead>\n",
       "    <tr style=\"text-align: right;\">\n",
       "      <th></th>\n",
       "      <th>count</th>\n",
       "      <th>mean</th>\n",
       "      <th>std</th>\n",
       "      <th>min</th>\n",
       "      <th>25%</th>\n",
       "      <th>50%</th>\n",
       "      <th>75%</th>\n",
       "      <th>max</th>\n",
       "    </tr>\n",
       "  </thead>\n",
       "  <tbody>\n",
       "    <tr>\n",
       "      <th>Item_Weight</th>\n",
       "      <td>7060.0</td>\n",
       "      <td>12.857645</td>\n",
       "      <td>4.643456</td>\n",
       "      <td>4.555</td>\n",
       "      <td>8.773750</td>\n",
       "      <td>12.600000</td>\n",
       "      <td>16.850000</td>\n",
       "      <td>21.350000</td>\n",
       "    </tr>\n",
       "    <tr>\n",
       "      <th>Item_Visibility</th>\n",
       "      <td>8523.0</td>\n",
       "      <td>0.066132</td>\n",
       "      <td>0.051598</td>\n",
       "      <td>0.000</td>\n",
       "      <td>0.026989</td>\n",
       "      <td>0.053931</td>\n",
       "      <td>0.094585</td>\n",
       "      <td>0.328391</td>\n",
       "    </tr>\n",
       "    <tr>\n",
       "      <th>Item_MRP</th>\n",
       "      <td>8523.0</td>\n",
       "      <td>140.992782</td>\n",
       "      <td>62.275067</td>\n",
       "      <td>31.290</td>\n",
       "      <td>93.826500</td>\n",
       "      <td>143.012800</td>\n",
       "      <td>185.643700</td>\n",
       "      <td>266.888400</td>\n",
       "    </tr>\n",
       "    <tr>\n",
       "      <th>Outlet_Establishment_Year</th>\n",
       "      <td>8523.0</td>\n",
       "      <td>1997.831867</td>\n",
       "      <td>8.371760</td>\n",
       "      <td>1985.000</td>\n",
       "      <td>1987.000000</td>\n",
       "      <td>1999.000000</td>\n",
       "      <td>2004.000000</td>\n",
       "      <td>2009.000000</td>\n",
       "    </tr>\n",
       "    <tr>\n",
       "      <th>Item_Outlet_Sales</th>\n",
       "      <td>8523.0</td>\n",
       "      <td>2181.288914</td>\n",
       "      <td>1706.499616</td>\n",
       "      <td>33.290</td>\n",
       "      <td>834.247400</td>\n",
       "      <td>1794.331000</td>\n",
       "      <td>3101.296400</td>\n",
       "      <td>13086.964800</td>\n",
       "    </tr>\n",
       "  </tbody>\n",
       "</table>\n",
       "</div>"
      ],
      "text/plain": [
       "                            count         mean          std       min  \\\n",
       "Item_Weight                7060.0    12.857645     4.643456     4.555   \n",
       "Item_Visibility            8523.0     0.066132     0.051598     0.000   \n",
       "Item_MRP                   8523.0   140.992782    62.275067    31.290   \n",
       "Outlet_Establishment_Year  8523.0  1997.831867     8.371760  1985.000   \n",
       "Item_Outlet_Sales          8523.0  2181.288914  1706.499616    33.290   \n",
       "\n",
       "                                   25%          50%          75%           max  \n",
       "Item_Weight                   8.773750    12.600000    16.850000     21.350000  \n",
       "Item_Visibility               0.026989     0.053931     0.094585      0.328391  \n",
       "Item_MRP                     93.826500   143.012800   185.643700    266.888400  \n",
       "Outlet_Establishment_Year  1987.000000  1999.000000  2004.000000   2009.000000  \n",
       "Item_Outlet_Sales           834.247400  1794.331000  3101.296400  13086.964800  "
      ]
     },
     "execution_count": 8,
     "metadata": {},
     "output_type": "execute_result"
    }
   ],
   "source": [
    "#Statistical measures about the data\n",
    "train_bigmart_df.describe().T"
   ]
  },
  {
   "cell_type": "code",
   "execution_count": 9,
   "id": "ca8ec7de",
   "metadata": {
    "scrolled": true
   },
   "outputs": [
    {
     "data": {
      "text/html": [
       "<div>\n",
       "<style scoped>\n",
       "    .dataframe tbody tr th:only-of-type {\n",
       "        vertical-align: middle;\n",
       "    }\n",
       "\n",
       "    .dataframe tbody tr th {\n",
       "        vertical-align: top;\n",
       "    }\n",
       "\n",
       "    .dataframe thead th {\n",
       "        text-align: right;\n",
       "    }\n",
       "</style>\n",
       "<table border=\"1\" class=\"dataframe\">\n",
       "  <thead>\n",
       "    <tr style=\"text-align: right;\">\n",
       "      <th></th>\n",
       "      <th>count</th>\n",
       "      <th>mean</th>\n",
       "      <th>std</th>\n",
       "      <th>min</th>\n",
       "      <th>25%</th>\n",
       "      <th>50%</th>\n",
       "      <th>75%</th>\n",
       "      <th>max</th>\n",
       "    </tr>\n",
       "  </thead>\n",
       "  <tbody>\n",
       "    <tr>\n",
       "      <th>Item_Weight</th>\n",
       "      <td>4705.0</td>\n",
       "      <td>12.695633</td>\n",
       "      <td>4.664849</td>\n",
       "      <td>4.555</td>\n",
       "      <td>8.645000</td>\n",
       "      <td>12.500000</td>\n",
       "      <td>16.700000</td>\n",
       "      <td>21.350000</td>\n",
       "    </tr>\n",
       "    <tr>\n",
       "      <th>Item_Visibility</th>\n",
       "      <td>5681.0</td>\n",
       "      <td>0.065684</td>\n",
       "      <td>0.051252</td>\n",
       "      <td>0.000</td>\n",
       "      <td>0.027047</td>\n",
       "      <td>0.054154</td>\n",
       "      <td>0.093463</td>\n",
       "      <td>0.323637</td>\n",
       "    </tr>\n",
       "    <tr>\n",
       "      <th>Item_MRP</th>\n",
       "      <td>5681.0</td>\n",
       "      <td>141.023273</td>\n",
       "      <td>61.809091</td>\n",
       "      <td>31.990</td>\n",
       "      <td>94.412000</td>\n",
       "      <td>141.415400</td>\n",
       "      <td>186.026600</td>\n",
       "      <td>266.588400</td>\n",
       "    </tr>\n",
       "    <tr>\n",
       "      <th>Outlet_Establishment_Year</th>\n",
       "      <td>5681.0</td>\n",
       "      <td>1997.828903</td>\n",
       "      <td>8.372256</td>\n",
       "      <td>1985.000</td>\n",
       "      <td>1987.000000</td>\n",
       "      <td>1999.000000</td>\n",
       "      <td>2004.000000</td>\n",
       "      <td>2009.000000</td>\n",
       "    </tr>\n",
       "  </tbody>\n",
       "</table>\n",
       "</div>"
      ],
      "text/plain": [
       "                            count         mean        std       min  \\\n",
       "Item_Weight                4705.0    12.695633   4.664849     4.555   \n",
       "Item_Visibility            5681.0     0.065684   0.051252     0.000   \n",
       "Item_MRP                   5681.0   141.023273  61.809091    31.990   \n",
       "Outlet_Establishment_Year  5681.0  1997.828903   8.372256  1985.000   \n",
       "\n",
       "                                   25%          50%          75%          max  \n",
       "Item_Weight                   8.645000    12.500000    16.700000    21.350000  \n",
       "Item_Visibility               0.027047     0.054154     0.093463     0.323637  \n",
       "Item_MRP                     94.412000   141.415400   186.026600   266.588400  \n",
       "Outlet_Establishment_Year  1987.000000  1999.000000  2004.000000  2009.000000  "
      ]
     },
     "execution_count": 9,
     "metadata": {},
     "output_type": "execute_result"
    }
   ],
   "source": [
    "test_bigmart_df.describe().T"
   ]
  },
  {
   "cell_type": "code",
   "execution_count": 10,
   "id": "f2465eb5",
   "metadata": {},
   "outputs": [
    {
     "data": {
      "text/plain": [
       "Item_Identifier              1559\n",
       "Item_Weight                   416\n",
       "Item_Fat_Content                5\n",
       "Item_Visibility              7880\n",
       "Item_Type                      16\n",
       "Item_MRP                     5938\n",
       "Outlet_Identifier              10\n",
       "Outlet_Establishment_Year       9\n",
       "Outlet_Size                     4\n",
       "Outlet_Location_Type            3\n",
       "Outlet_Type                     4\n",
       "Item_Outlet_Sales            3493\n",
       "dtype: int64"
      ]
     },
     "execution_count": 10,
     "metadata": {},
     "output_type": "execute_result"
    }
   ],
   "source": [
    "#IN categorical variables we will see the number of unique values in each of them\n",
    "train_bigmart_df.apply(lambda x: len(x.unique()))"
   ]
  },
  {
   "cell_type": "code",
   "execution_count": 11,
   "id": "0f43f987",
   "metadata": {},
   "outputs": [],
   "source": [
    "# We can see that there is 1559 products and 10 outlets."
   ]
  },
  {
   "cell_type": "code",
   "execution_count": 12,
   "id": "b601dfbb",
   "metadata": {},
   "outputs": [
    {
     "data": {
      "text/plain": [
       "Low Fat    5089\n",
       "Regular    2889\n",
       "LF          316\n",
       "reg         117\n",
       "low fat     112\n",
       "Name: Item_Fat_Content, dtype: int64"
      ]
     },
     "execution_count": 12,
     "metadata": {},
     "output_type": "execute_result"
    }
   ],
   "source": [
    "train_bigmart_df['Item_Fat_Content'].value_counts()"
   ]
  },
  {
   "cell_type": "code",
   "execution_count": 13,
   "id": "eb57a5c3",
   "metadata": {},
   "outputs": [],
   "source": [
    "#We can see that Item_Fat_Content values are :(Low Fat,Regular ,LF ,reg ,low fat)\n",
    "#I'm gooing to replace it with :Low Fat , Regular (for visualization)\n",
    "#I'm gooing to label it (for fitting the model)"
   ]
  },
  {
   "cell_type": "code",
   "execution_count": 14,
   "id": "6b5a9cbd",
   "metadata": {},
   "outputs": [
    {
     "data": {
      "text/plain": [
       "Fruits and Vegetables    1232\n",
       "Snack Foods              1200\n",
       "Household                 910\n",
       "Frozen Foods              856\n",
       "Dairy                     682\n",
       "Canned                    649\n",
       "Baking Goods              648\n",
       "Health and Hygiene        520\n",
       "Soft Drinks               445\n",
       "Meat                      425\n",
       "Breads                    251\n",
       "Hard Drinks               214\n",
       "Others                    169\n",
       "Starchy Foods             148\n",
       "Breakfast                 110\n",
       "Seafood                    64\n",
       "Name: Item_Type, dtype: int64"
      ]
     },
     "execution_count": 14,
     "metadata": {},
     "output_type": "execute_result"
    }
   ],
   "source": [
    "train_bigmart_df['Item_Type'].value_counts()"
   ]
  },
  {
   "cell_type": "code",
   "execution_count": 15,
   "id": "7db38ec7",
   "metadata": {},
   "outputs": [],
   "source": [
    "#We see that Item_Type have 16 different types of unique values and it is high number for categorical variable.\n",
    "#Therefore I'm going to use \"dummy variables\"."
   ]
  },
  {
   "cell_type": "code",
   "execution_count": 16,
   "id": "7c06ad8e",
   "metadata": {},
   "outputs": [
    {
     "data": {
      "text/plain": [
       "Supermarket Type1    5577\n",
       "Grocery Store        1083\n",
       "Supermarket Type3     935\n",
       "Supermarket Type2     928\n",
       "Name: Outlet_Type, dtype: int64"
      ]
     },
     "execution_count": 16,
     "metadata": {},
     "output_type": "execute_result"
    }
   ],
   "source": [
    "train_bigmart_df['Outlet_Type'].value_counts()"
   ]
  },
  {
   "cell_type": "code",
   "execution_count": 17,
   "id": "04cdd436",
   "metadata": {},
   "outputs": [
    {
     "data": {
      "text/plain": [
       "Tier 3    3350\n",
       "Tier 2    2785\n",
       "Tier 1    2388\n",
       "Name: Outlet_Location_Type, dtype: int64"
      ]
     },
     "execution_count": 17,
     "metadata": {},
     "output_type": "execute_result"
    }
   ],
   "source": [
    "train_bigmart_df['Outlet_Location_Type'].value_counts()"
   ]
  },
  {
   "cell_type": "code",
   "execution_count": 18,
   "id": "aa653141",
   "metadata": {},
   "outputs": [
    {
     "data": {
      "text/plain": [
       "Medium    2793\n",
       "Small     2388\n",
       "High       932\n",
       "Name: Outlet_Size, dtype: int64"
      ]
     },
     "execution_count": 18,
     "metadata": {},
     "output_type": "execute_result"
    }
   ],
   "source": [
    "train_bigmart_df['Outlet_Size'].value_counts()"
   ]
  },
  {
   "cell_type": "markdown",
   "id": "eb892b14",
   "metadata": {},
   "source": [
    "# Handling Missing data "
   ]
  },
  {
   "cell_type": "markdown",
   "id": "28d315ac",
   "metadata": {},
   "source": [
    "# Iteam_Weight is numarical column so we fit it with mean"
   ]
  },
  {
   "cell_type": "code",
   "execution_count": 19,
   "id": "1fe250e8",
   "metadata": {
    "scrolled": true
   },
   "outputs": [
    {
     "name": "stdout",
     "output_type": "stream",
     "text": [
      "0\n",
      "0\n"
     ]
    }
   ],
   "source": [
    "#train dataset\n",
    "train_bigmart_df['Item_Weight'].fillna(train_bigmart_df['Item_Weight'].mean(), inplace= True)\n",
    "#test dataset\n",
    "test_bigmart_df['Item_Weight'].fillna(train_bigmart_df['Item_Weight'].mean(), inplace= True)\n",
    "print(train_bigmart_df['Item_Weight'].isnull().sum())\n",
    "print(test_bigmart_df['Item_Weight'].isnull().sum())\n"
   ]
  },
  {
   "cell_type": "markdown",
   "id": "7b74f011",
   "metadata": {},
   "source": [
    "# Outlet_Size is catagrical  column so we fit it with mode"
   ]
  },
  {
   "cell_type": "code",
   "execution_count": 20,
   "id": "adb846b4",
   "metadata": {},
   "outputs": [],
   "source": [
    "#replace Outlet_Size with the mode of the Outlet_Size for the particular type of outlet."
   ]
  },
  {
   "cell_type": "code",
   "execution_count": 21,
   "id": "04be6770",
   "metadata": {},
   "outputs": [
    {
     "name": "stdout",
     "output_type": "stream",
     "text": [
      "Outlet_Type Grocery Store Supermarket Type1 Supermarket Type2  \\\n",
      "Outlet_Size         Small             Small            Medium   \n",
      "\n",
      "Outlet_Type Supermarket Type3  \n",
      "Outlet_Size            Medium  \n"
     ]
    },
    {
     "data": {
      "text/plain": [
       "0"
      ]
     },
     "execution_count": 21,
     "metadata": {},
     "output_type": "execute_result"
    }
   ],
   "source": [
    "#Train dataset\n",
    "outlet_size_mode = train_bigmart_df.pivot_table(values='Outlet_Size',columns='Outlet_Type',aggfunc=(lambda x: x.mode()[0]))\n",
    "print(outlet_size_mode)\n",
    "\n",
    "missing_values= train_bigmart_df['Outlet_Size'].isnull()\n",
    "train_bigmart_df.loc[missing_values,'Outlet_Size']=train_bigmart_df.loc[missing_values,'Outlet_Type'].apply(lambda x:outlet_size_mode[x])\n",
    "train_bigmart_df['Outlet_Size'].isnull().sum()\n"
   ]
  },
  {
   "cell_type": "code",
   "execution_count": 22,
   "id": "47df8aa3",
   "metadata": {
    "scrolled": true
   },
   "outputs": [
    {
     "name": "stdout",
     "output_type": "stream",
     "text": [
      "Outlet_Type Grocery Store Supermarket Type1 Supermarket Type2  \\\n",
      "Outlet_Size         Small             Small            Medium   \n",
      "\n",
      "Outlet_Type Supermarket Type3  \n",
      "Outlet_Size            Medium  \n"
     ]
    },
    {
     "data": {
      "text/plain": [
       "0"
      ]
     },
     "execution_count": 22,
     "metadata": {},
     "output_type": "execute_result"
    }
   ],
   "source": [
    "#test dataset\n",
    "\n",
    "outlet_size_mode1 = test_bigmart_df.pivot_table(values='Outlet_Size',columns='Outlet_Type',aggfunc=(lambda x: x.mode()[0]))\n",
    "print(outlet_size_mode)\n",
    "\n",
    "#replace the missing value \n",
    "missing_values1= test_bigmart_df['Outlet_Size'].isnull()\n",
    "test_bigmart_df.loc[missing_values1,'Outlet_Size']=test_bigmart_df.loc[missing_values1,'Outlet_Type'].apply(lambda x:outlet_size_mode[x])\n",
    "\n",
    "test_bigmart_df['Outlet_Size'].isnull().sum()"
   ]
  },
  {
   "cell_type": "markdown",
   "id": "3364d64d",
   "metadata": {},
   "source": [
    "# Handling zeros data"
   ]
  },
  {
   "cell_type": "code",
   "execution_count": 23,
   "id": "515bf7a5",
   "metadata": {},
   "outputs": [
    {
     "name": "stdout",
     "output_type": "stream",
     "text": [
      "0\n",
      "0\n"
     ]
    }
   ],
   "source": [
    "#replacing the '0' with the mean of Item_Visibility\n",
    "#from the data description we see the min 0.000\n",
    "#train dataset\n",
    "train_bigmart_df.loc[:,'Item_Visibility'].replace([0],train_bigmart_df['Item_Visibility'].mean(),inplace=True)\n",
    "print(sum(train_bigmart_df['Item_Visibility']==0))\n",
    "\n",
    "#test dataset\n",
    "test_bigmart_df.loc[:,'Item_Visibility'].replace([0],test_bigmart_df['Item_Visibility'].mean(),inplace=True)\n",
    "print(sum(test_bigmart_df['Item_Visibility']==0))"
   ]
  },
  {
   "cell_type": "markdown",
   "id": "87751314",
   "metadata": {},
   "source": [
    "# Analizing text data"
   ]
  },
  {
   "cell_type": "code",
   "execution_count": 24,
   "id": "844e9a27",
   "metadata": {},
   "outputs": [
    {
     "data": {
      "text/plain": [
       "Low Fat    5517\n",
       "Regular    3006\n",
       "Name: Item_Fat_Content, dtype: int64"
      ]
     },
     "execution_count": 24,
     "metadata": {},
     "output_type": "execute_result"
    }
   ],
   "source": [
    "train_bigmart_df['Item_Fat_Content']=train_bigmart_df['Item_Fat_Content'].replace({'LF':'Low Fat','reg':'Regular','low fat':'Low Fat'})\n",
    "train_bigmart_df['Item_Fat_Content'].value_counts()\n",
    "#train_bigmart_df.head()"
   ]
  },
  {
   "cell_type": "code",
   "execution_count": 25,
   "id": "3fbd01c9",
   "metadata": {},
   "outputs": [
    {
     "data": {
      "text/plain": [
       "Low Fat    3668\n",
       "Regular    2013\n",
       "Name: Item_Fat_Content, dtype: int64"
      ]
     },
     "execution_count": 25,
     "metadata": {},
     "output_type": "execute_result"
    }
   ],
   "source": [
    "test_bigmart_df['Item_Fat_Content']=test_bigmart_df['Item_Fat_Content'].replace({'LF':'Low Fat','reg':'Regular','low fat':'Low Fat'})\n",
    "test_bigmart_df['Item_Fat_Content'].value_counts()\n",
    "#test_bigmart_df.head()"
   ]
  },
  {
   "cell_type": "markdown",
   "id": "5bda2863",
   "metadata": {},
   "source": [
    "# Data Visualization"
   ]
  },
  {
   "cell_type": "markdown",
   "id": "a943b1c9",
   "metadata": {},
   "source": [
    "# 1- Distribution of each variable."
   ]
  },
  {
   "cell_type": "code",
   "execution_count": 26,
   "id": "f16ed0b3",
   "metadata": {},
   "outputs": [],
   "source": [
    "#Distribution of the target variable:Item_Outlet_Sales"
   ]
  },
  {
   "cell_type": "code",
   "execution_count": 27,
   "id": "2f5b62a4",
   "metadata": {},
   "outputs": [
    {
     "data": {
      "text/plain": [
       "<function matplotlib.pyplot.show(close=None, block=None)>"
      ]
     },
     "execution_count": 27,
     "metadata": {},
     "output_type": "execute_result"
    },
    {
     "data": {
      "image/png": "[encoded data removed]",
      "text/plain": [
       "<Figure size 432x432 with 1 Axes>"
      ]
     },
     "metadata": {
      "needs_background": "light"
     },
     "output_type": "display_data"
    }
   ],
   "source": [
    "\n",
    "plt.figure(figsize=(6,6))\n",
    "sns.distplot(train_bigmart_df['Item_Outlet_Sales'])\n",
    "plt.xlabel(\"Item_Outlet_Sales\")\n",
    "plt.ylabel(\"Number of Sales\")\n",
    "plt.show"
   ]
  },
  {
   "cell_type": "code",
   "execution_count": 28,
   "id": "f4c1c57d",
   "metadata": {},
   "outputs": [],
   "source": [
    "#Catigorical Fetures"
   ]
  },
  {
   "cell_type": "code",
   "execution_count": 29,
   "id": "2d973844",
   "metadata": {},
   "outputs": [
    {
     "data": {
      "image/png": "[encoded data removed]",
      "text/plain": [
       "<Figure size 432x288 with 1 Axes>"
      ]
     },
     "metadata": {
      "needs_background": "light"
     },
     "output_type": "display_data"
    }
   ],
   "source": [
    "#Distribution of the variable:Item_Fat_Content\n",
    "\n",
    "#Which product most sold the low fat or regular fat?\n",
    "plt.figure(figsize=(6,4))\n",
    "sns.countplot(x='Item_Fat_Content' , data=train_bigmart_df ,palette='rocket')\n",
    "plt.xlabel('Item_Fat_Content', fontsize=14)\n",
    "plt.show()"
   ]
  },
  {
   "cell_type": "code",
   "execution_count": 30,
   "id": "561c4561",
   "metadata": {
    "scrolled": false
   },
   "outputs": [
    {
     "data": {
      "image/png": "[encoded data removed]",
      "text/plain": [
       "<Figure size 720x360 with 1 Axes>"
      ]
     },
     "metadata": {
      "needs_background": "light"
     },
     "output_type": "display_data"
    }
   ],
   "source": [
    "#Distribution of the variable: Item_Type\n",
    "\n",
    "# What type of item has most sales?   \n",
    "plt.figure(figsize=(10,5))\n",
    "sns.countplot(x='Item_Type' , data=train_bigmart_df,palette='rocket' )\n",
    "plt.xlabel('Item_Type', fontsize=18)\n",
    "plt.xticks(rotation=90)\n",
    "plt.show()"
   ]
  },
  {
   "cell_type": "code",
   "execution_count": 31,
   "id": "61a5c3e0",
   "metadata": {},
   "outputs": [],
   "source": [
    "#from the plot we can see that Fruits and Vegetables ,Snack Foods and Household are more sold than the other items."
   ]
  },
  {
   "cell_type": "code",
   "execution_count": 32,
   "id": "c68a3a2b",
   "metadata": {},
   "outputs": [
    {
     "data": {
      "image/png": "[encoded data removed]",
      "text/plain": [
       "<Figure size 360x288 with 1 Axes>"
      ]
     },
     "metadata": {
      "needs_background": "light"
     },
     "output_type": "display_data"
    }
   ],
   "source": [
    "#Distribution of the variable:Outlet_Size\n",
    "\n",
    "# what is the most common outlet size?\n",
    "plt.figure(figsize=(5,4))\n",
    "sns.countplot(x='Outlet_Size' , data=train_bigmart_df  ,palette='rocket')\n",
    "plt.xlabel('Outlet_Size', fontsize=14)\n",
    "plt.show()"
   ]
  },
  {
   "cell_type": "code",
   "execution_count": 33,
   "id": "d0af873a",
   "metadata": {},
   "outputs": [
    {
     "data": {
      "image/png": "[encoded data removed]",
      "text/plain": [
       "<Figure size 360x360 with 1 Axes>"
      ]
     },
     "metadata": {
      "needs_background": "light"
     },
     "output_type": "display_data"
    }
   ],
   "source": [
    "#Distribution of the variable:Outlet_Location_Type\n",
    "\n",
    "#Where ara the most outlet located ?\n",
    "plt.figure(figsize=(5,5))\n",
    "sns.countplot(x='Outlet_Location_Type' , data=train_bigmart_df,palette='rocket')\n",
    "plt.xlabel('Outlet_Location_Type', fontsize=14)\n",
    "plt.show()"
   ]
  },
  {
   "cell_type": "code",
   "execution_count": 34,
   "id": "38d7e4c2",
   "metadata": {},
   "outputs": [
    {
     "data": {
      "image/png": "[encoded data removed]",
      "text/plain": [
       "<Figure size 720x288 with 1 Axes>"
      ]
     },
     "metadata": {
      "needs_background": "light"
     },
     "output_type": "display_data"
    }
   ],
   "source": [
    "#Distribution of the variable :Outlet_Type\n",
    "# What type of outlet has more sales?\n",
    "plt.figure(figsize=(10,4))\n",
    "sns.countplot(x='Outlet_Type' , data=train_bigmart_df ,palette='rocket')\n",
    "plt.xlabel('Outlet_Type', fontsize=14)\n",
    "plt.show()"
   ]
  },
  {
   "cell_type": "code",
   "execution_count": 35,
   "id": "6cfbd219",
   "metadata": {},
   "outputs": [],
   "source": [
    "#Numerical fetures"
   ]
  },
  {
   "cell_type": "code",
   "execution_count": 36,
   "id": "59268c0d",
   "metadata": {},
   "outputs": [
    {
     "data": {
      "text/plain": [
       "<AxesSubplot:xlabel='Item_Weight', ylabel='Density'>"
      ]
     },
     "execution_count": 36,
     "metadata": {},
     "output_type": "execute_result"
    },
    {
     "data": {
      "image/png": "[encoded data removed]",
      "text/plain": [
       "<Figure size 432x288 with 1 Axes>"
      ]
     },
     "metadata": {
      "needs_background": "light"
     },
     "output_type": "display_data"
    }
   ],
   "source": [
    "#item_weight distribution\n",
    "plt.figure(figsize=None)\n",
    "sns.distplot(train_bigmart_df['Item_Weight'],color='red')\n",
    "\n",
    "#what is the avg weight of the products ? "
   ]
  },
  {
   "cell_type": "code",
   "execution_count": 37,
   "id": "f91f5bb3",
   "metadata": {},
   "outputs": [
    {
     "data": {
      "text/plain": [
       "<AxesSubplot:xlabel='Item_Visibility', ylabel='Density'>"
      ]
     },
     "execution_count": 37,
     "metadata": {},
     "output_type": "execute_result"
    },
    {
     "data": {
      "image/png": "[encoded data removed]",
      "text/plain": [
       "<Figure size 432x288 with 1 Axes>"
      ]
     },
     "metadata": {
      "needs_background": "light"
     },
     "output_type": "display_data"
    }
   ],
   "source": [
    "#Item_Visibility distribution\n",
    "plt.figure(figsize=None)\n",
    "sns.distplot(train_bigmart_df['Item_Visibility'],color='red')\n"
   ]
  },
  {
   "cell_type": "code",
   "execution_count": 38,
   "id": "a6e9198a",
   "metadata": {
    "scrolled": false
   },
   "outputs": [
    {
     "data": {
      "text/plain": [
       "<AxesSubplot:xlabel='Item_MRP', ylabel='Density'>"
      ]
     },
     "execution_count": 38,
     "metadata": {},
     "output_type": "execute_result"
    },
    {
     "data": {
      "image/png": "[encoded data removed]",
      "text/plain": [
       "<Figure size 432x288 with 1 Axes>"
      ]
     },
     "metadata": {
      "needs_background": "light"
     },
     "output_type": "display_data"
    }
   ],
   "source": [
    "#Item_MRP distribution\n",
    "plt.figure(figsize=None)\n",
    "sns.distplot(train_bigmart_df['Item_MRP'],color='red')"
   ]
  },
  {
   "cell_type": "code",
   "execution_count": 39,
   "id": "27c6bbce",
   "metadata": {},
   "outputs": [
    {
     "data": {
      "image/png": "[encoded data removed]",
      "text/plain": [
       "<Figure size 360x360 with 1 Axes>"
      ]
     },
     "metadata": {
      "needs_background": "light"
     },
     "output_type": "display_data"
    }
   ],
   "source": [
    "#Outlet_Establishment_Years distribution\n",
    "plt.figure(figsize=(5,5))\n",
    "sns.countplot(x='Outlet_Establishment_Year' , data=train_bigmart_df,palette='rocket')\n",
    "plt.xlabel('Outlet_Establishment_Year', fontsize=14)\n",
    "plt.show()"
   ]
  },
  {
   "cell_type": "markdown",
   "id": "4b8b34f7",
   "metadata": {},
   "source": [
    "# 2-Check the relationship between the target variable and others."
   ]
  },
  {
   "cell_type": "code",
   "execution_count": 40,
   "id": "3552b5f9",
   "metadata": {},
   "outputs": [],
   "source": [
    "#Categorical Variables"
   ]
  },
  {
   "cell_type": "code",
   "execution_count": 41,
   "id": "83a83bcf",
   "metadata": {},
   "outputs": [
    {
     "data": {
      "image/png": "[encoded data removed]",
      "text/plain": [
       "<Figure size 432x288 with 1 Axes>"
      ]
     },
     "metadata": {
      "needs_background": "light"
     },
     "output_type": "display_data"
    }
   ],
   "source": [
    "#Impact of Item_Fat_Content on Item_Outlet_Sales\n",
    "sns.barplot('Item_Fat_Content' ,'Item_Outlet_Sales', data=train_bigmart_df,palette='hls' )\n",
    "plt.xlabel('Item_Fat_Content', fontsize=14)\n",
    "plt.show()\n"
   ]
  },
  {
   "cell_type": "code",
   "execution_count": 42,
   "id": "002bfa71",
   "metadata": {},
   "outputs": [
    {
     "data": {
      "image/png": "[encoded data removed]",
      "text/plain": [
       "<Figure size 432x288 with 1 Axes>"
      ]
     },
     "metadata": {
      "needs_background": "light"
     },
     "output_type": "display_data"
    }
   ],
   "source": [
    "\n",
    "sns.barplot('Outlet_Identifier' ,'Item_Outlet_Sales', data=train_bigmart_df ,palette='hls')\n",
    "plt.xlabel('Outlet_Identifier', fontsize=14)\n",
    "plt.xticks(rotation=90)\n",
    "plt.show()"
   ]
  },
  {
   "cell_type": "code",
   "execution_count": 43,
   "id": "6b7f588b",
   "metadata": {},
   "outputs": [
    {
     "data": {
      "image/png": "[encoded data removed]",
      "text/plain": [
       "<Figure size 432x288 with 1 Axes>"
      ]
     },
     "metadata": {
      "needs_background": "light"
     },
     "output_type": "display_data"
    }
   ],
   "source": [
    "sns.barplot(x='Item_Type',y='Item_Outlet_Sales',data=train_bigmart_df,palette='hls',saturation=8)\n",
    "plt.xticks(rotation=90)\n",
    "plt.show()\n"
   ]
  },
  {
   "cell_type": "code",
   "execution_count": 44,
   "id": "8d7d8beb",
   "metadata": {},
   "outputs": [
    {
     "data": {
      "image/png": "[encoded data removed]",
      "text/plain": [
       "<Figure size 432x288 with 1 Axes>"
      ]
     },
     "metadata": {
      "needs_background": "light"
     },
     "output_type": "display_data"
    }
   ],
   "source": [
    "sns.barplot(x='Outlet_Size',y='Item_Outlet_Sales',data=train_bigmart_df,palette='hls',saturation=8)\n",
    "plt.xticks(rotation=90)\n",
    "plt.show()"
   ]
  },
  {
   "cell_type": "code",
   "execution_count": 45,
   "id": "28de6feb",
   "metadata": {},
   "outputs": [
    {
     "data": {
      "image/png": "[encoded data removed]",
      "text/plain": [
       "<Figure size 432x288 with 1 Axes>"
      ]
     },
     "metadata": {
      "needs_background": "light"
     },
     "output_type": "display_data"
    }
   ],
   "source": [
    "sns.barplot(x='Outlet_Type',y='Item_Outlet_Sales',data=train_bigmart_df,palette='hls',saturation=8)\n",
    "plt.xticks(rotation=90)\n",
    "plt.show()"
   ]
  },
  {
   "cell_type": "code",
   "execution_count": 46,
   "id": "b05f028a",
   "metadata": {},
   "outputs": [],
   "source": [
    "# Plot all of the relationship between the target variable and the numirecal variable"
   ]
  },
  {
   "cell_type": "code",
   "execution_count": 47,
   "id": "9173886a",
   "metadata": {},
   "outputs": [
    {
     "data": {
      "image/png": "[encoded data removed]",
      "text/plain": [
       "<Figure size 720x180 with 4 Axes>"
      ]
     },
     "metadata": {
      "needs_background": "light"
     },
     "output_type": "display_data"
    }
   ],
   "source": [
    "sns.pairplot(train_bigmart_df,x_vars=['Item_Weight','Item_Visibility','Item_MRP','Outlet_Establishment_Year'],y_vars='Item_Outlet_Sales');"
   ]
  },
  {
   "cell_type": "markdown",
   "id": "fe8b2bbd",
   "metadata": {},
   "source": [
    "# Drop unnessasery features "
   ]
  },
  {
   "cell_type": "code",
   "execution_count": 48,
   "id": "28c8491f",
   "metadata": {},
   "outputs": [
    {
     "data": {
      "text/html": [
       "<div>\n",
       "<style scoped>\n",
       "    .dataframe tbody tr th:only-of-type {\n",
       "        vertical-align: middle;\n",
       "    }\n",
       "\n",
       "    .dataframe tbody tr th {\n",
       "        vertical-align: top;\n",
       "    }\n",
       "\n",
       "    .dataframe thead th {\n",
       "        text-align: right;\n",
       "    }\n",
       "</style>\n",
       "<table border=\"1\" class=\"dataframe\">\n",
       "  <thead>\n",
       "    <tr style=\"text-align: right;\">\n",
       "      <th></th>\n",
       "      <th>Item_Weight</th>\n",
       "      <th>Item_Fat_Content</th>\n",
       "      <th>Item_Visibility</th>\n",
       "      <th>Item_Type</th>\n",
       "      <th>Item_MRP</th>\n",
       "      <th>Outlet_Size</th>\n",
       "      <th>Outlet_Location_Type</th>\n",
       "      <th>Outlet_Type</th>\n",
       "    </tr>\n",
       "  </thead>\n",
       "  <tbody>\n",
       "    <tr>\n",
       "      <th>0</th>\n",
       "      <td>20.75</td>\n",
       "      <td>Low Fat</td>\n",
       "      <td>0.007565</td>\n",
       "      <td>Snack Foods</td>\n",
       "      <td>107.8622</td>\n",
       "      <td>Medium</td>\n",
       "      <td>Tier 1</td>\n",
       "      <td>Supermarket Type1</td>\n",
       "    </tr>\n",
       "    <tr>\n",
       "      <th>1</th>\n",
       "      <td>8.30</td>\n",
       "      <td>Regular</td>\n",
       "      <td>0.038428</td>\n",
       "      <td>Dairy</td>\n",
       "      <td>87.3198</td>\n",
       "      <td>Small</td>\n",
       "      <td>Tier 2</td>\n",
       "      <td>Supermarket Type1</td>\n",
       "    </tr>\n",
       "  </tbody>\n",
       "</table>\n",
       "</div>"
      ],
      "text/plain": [
       "   Item_Weight Item_Fat_Content  Item_Visibility    Item_Type  Item_MRP  \\\n",
       "0        20.75          Low Fat         0.007565  Snack Foods  107.8622   \n",
       "1         8.30          Regular         0.038428        Dairy   87.3198   \n",
       "\n",
       "  Outlet_Size Outlet_Location_Type        Outlet_Type  \n",
       "0      Medium               Tier 1  Supermarket Type1  \n",
       "1       Small               Tier 2  Supermarket Type1  "
      ]
     },
     "execution_count": 48,
     "metadata": {},
     "output_type": "execute_result"
    }
   ],
   "source": [
    "#drop Item_Identifier\n",
    "train_bigmart_df.drop(['Item_Identifier','Outlet_Identifier'],axis=1,inplace=True)\n",
    "test_bigmart_df.drop(['Item_Identifier','Outlet_Identifier'],axis=1,inplace=True)\n",
    "test_bigmart_df.head(2)\n",
    "#drop Outlet_Establishment_Year \n",
    "train_bigmart_df.drop(['Outlet_Establishment_Year'],axis=1,inplace=True)\n",
    "test_bigmart_df.drop(['Outlet_Establishment_Year'],axis=1,inplace=True)\n",
    "test_bigmart_df.head(2)"
   ]
  },
  {
   "cell_type": "markdown",
   "id": "b5f298b3",
   "metadata": {},
   "source": [
    "# Data Preprocessing "
   ]
  },
  {
   "cell_type": "code",
   "execution_count": 49,
   "id": "a7d6abeb",
   "metadata": {},
   "outputs": [
    {
     "data": {
      "text/html": [
       "<div>\n",
       "<style scoped>\n",
       "    .dataframe tbody tr th:only-of-type {\n",
       "        vertical-align: middle;\n",
       "    }\n",
       "\n",
       "    .dataframe tbody tr th {\n",
       "        vertical-align: top;\n",
       "    }\n",
       "\n",
       "    .dataframe thead th {\n",
       "        text-align: right;\n",
       "    }\n",
       "</style>\n",
       "<table border=\"1\" class=\"dataframe\">\n",
       "  <thead>\n",
       "    <tr style=\"text-align: right;\">\n",
       "      <th></th>\n",
       "      <th>Item_Weight</th>\n",
       "      <th>Item_Fat_Content</th>\n",
       "      <th>Item_Visibility</th>\n",
       "      <th>Item_Type</th>\n",
       "      <th>Item_MRP</th>\n",
       "      <th>Outlet_Size</th>\n",
       "      <th>Outlet_Location_Type</th>\n",
       "      <th>Outlet_Type</th>\n",
       "      <th>Item_Outlet_Sales</th>\n",
       "    </tr>\n",
       "  </thead>\n",
       "  <tbody>\n",
       "    <tr>\n",
       "      <th>0</th>\n",
       "      <td>9.30</td>\n",
       "      <td>0</td>\n",
       "      <td>0.016047</td>\n",
       "      <td>4</td>\n",
       "      <td>249.8092</td>\n",
       "      <td>1</td>\n",
       "      <td>0</td>\n",
       "      <td>1</td>\n",
       "      <td>3735.1380</td>\n",
       "    </tr>\n",
       "    <tr>\n",
       "      <th>1</th>\n",
       "      <td>5.92</td>\n",
       "      <td>1</td>\n",
       "      <td>0.019278</td>\n",
       "      <td>14</td>\n",
       "      <td>48.2692</td>\n",
       "      <td>1</td>\n",
       "      <td>2</td>\n",
       "      <td>2</td>\n",
       "      <td>443.4228</td>\n",
       "    </tr>\n",
       "    <tr>\n",
       "      <th>2</th>\n",
       "      <td>17.50</td>\n",
       "      <td>0</td>\n",
       "      <td>0.016760</td>\n",
       "      <td>10</td>\n",
       "      <td>141.6180</td>\n",
       "      <td>1</td>\n",
       "      <td>0</td>\n",
       "      <td>1</td>\n",
       "      <td>2097.2700</td>\n",
       "    </tr>\n",
       "    <tr>\n",
       "      <th>3</th>\n",
       "      <td>19.20</td>\n",
       "      <td>1</td>\n",
       "      <td>0.066132</td>\n",
       "      <td>6</td>\n",
       "      <td>182.0950</td>\n",
       "      <td>2</td>\n",
       "      <td>2</td>\n",
       "      <td>0</td>\n",
       "      <td>732.3800</td>\n",
       "    </tr>\n",
       "    <tr>\n",
       "      <th>4</th>\n",
       "      <td>8.93</td>\n",
       "      <td>0</td>\n",
       "      <td>0.066132</td>\n",
       "      <td>9</td>\n",
       "      <td>53.8614</td>\n",
       "      <td>0</td>\n",
       "      <td>2</td>\n",
       "      <td>1</td>\n",
       "      <td>994.7052</td>\n",
       "    </tr>\n",
       "  </tbody>\n",
       "</table>\n",
       "</div>"
      ],
      "text/plain": [
       "   Item_Weight  Item_Fat_Content  Item_Visibility  Item_Type  Item_MRP  \\\n",
       "0         9.30                 0         0.016047          4  249.8092   \n",
       "1         5.92                 1         0.019278         14   48.2692   \n",
       "2        17.50                 0         0.016760         10  141.6180   \n",
       "3        19.20                 1         0.066132          6  182.0950   \n",
       "4         8.93                 0         0.066132          9   53.8614   \n",
       "\n",
       "   Outlet_Size  Outlet_Location_Type  Outlet_Type  Item_Outlet_Sales  \n",
       "0            1                     0            1          3735.1380  \n",
       "1            1                     2            2           443.4228  \n",
       "2            1                     0            1          2097.2700  \n",
       "3            2                     2            0           732.3800  \n",
       "4            0                     2            1           994.7052  "
      ]
     },
     "execution_count": 49,
     "metadata": {},
     "output_type": "execute_result"
    }
   ],
   "source": [
    "#I have to convert catogrical columns to numarical values\n",
    "\n",
    "le= LabelEncoder()\n",
    "train_bigmart_df['Item_Fat_Content']=le.fit_transform(train_bigmart_df['Item_Fat_Content'])\n",
    "train_bigmart_df['Item_Type']=le.fit_transform(train_bigmart_df['Item_Type'])\n",
    "train_bigmart_df['Outlet_Size']=le.fit_transform(train_bigmart_df['Outlet_Size'])\n",
    "train_bigmart_df['Outlet_Location_Type']=le.fit_transform(train_bigmart_df['Outlet_Location_Type'])\n",
    "train_bigmart_df['Outlet_Type']=le.fit_transform(train_bigmart_df['Outlet_Type'])\n",
    "train_bigmart_df.head()"
   ]
  },
  {
   "cell_type": "code",
   "execution_count": 72,
   "id": "a87fdc08",
   "metadata": {},
   "outputs": [
    {
     "data": {
      "text/html": [
       "<div>\n",
       "<style scoped>\n",
       "    .dataframe tbody tr th:only-of-type {\n",
       "        vertical-align: middle;\n",
       "    }\n",
       "\n",
       "    .dataframe tbody tr th {\n",
       "        vertical-align: top;\n",
       "    }\n",
       "\n",
       "    .dataframe thead th {\n",
       "        text-align: right;\n",
       "    }\n",
       "</style>\n",
       "<table border=\"1\" class=\"dataframe\">\n",
       "  <thead>\n",
       "    <tr style=\"text-align: right;\">\n",
       "      <th></th>\n",
       "      <th>Item_Weight</th>\n",
       "      <th>Item_Fat_Content</th>\n",
       "      <th>Item_Visibility</th>\n",
       "      <th>Item_Type</th>\n",
       "      <th>Item_MRP</th>\n",
       "      <th>Outlet_Size</th>\n",
       "      <th>Outlet_Location_Type</th>\n",
       "      <th>Outlet_Type</th>\n",
       "      <th>Item_Outlet_Sales</th>\n",
       "    </tr>\n",
       "  </thead>\n",
       "  <tbody>\n",
       "    <tr>\n",
       "      <th>0</th>\n",
       "      <td>20.750000</td>\n",
       "      <td>0</td>\n",
       "      <td>0.007565</td>\n",
       "      <td>13</td>\n",
       "      <td>107.8622</td>\n",
       "      <td>1</td>\n",
       "      <td>0</td>\n",
       "      <td>1</td>\n",
       "      <td>0</td>\n",
       "    </tr>\n",
       "    <tr>\n",
       "      <th>1</th>\n",
       "      <td>8.300000</td>\n",
       "      <td>1</td>\n",
       "      <td>0.038428</td>\n",
       "      <td>4</td>\n",
       "      <td>87.3198</td>\n",
       "      <td>2</td>\n",
       "      <td>1</td>\n",
       "      <td>1</td>\n",
       "      <td>0</td>\n",
       "    </tr>\n",
       "    <tr>\n",
       "      <th>2</th>\n",
       "      <td>14.600000</td>\n",
       "      <td>0</td>\n",
       "      <td>0.099575</td>\n",
       "      <td>11</td>\n",
       "      <td>241.7538</td>\n",
       "      <td>2</td>\n",
       "      <td>2</td>\n",
       "      <td>0</td>\n",
       "      <td>0</td>\n",
       "    </tr>\n",
       "    <tr>\n",
       "      <th>3</th>\n",
       "      <td>7.315000</td>\n",
       "      <td>0</td>\n",
       "      <td>0.015388</td>\n",
       "      <td>13</td>\n",
       "      <td>155.0340</td>\n",
       "      <td>2</td>\n",
       "      <td>1</td>\n",
       "      <td>1</td>\n",
       "      <td>0</td>\n",
       "    </tr>\n",
       "    <tr>\n",
       "      <th>4</th>\n",
       "      <td>12.857645</td>\n",
       "      <td>1</td>\n",
       "      <td>0.118599</td>\n",
       "      <td>4</td>\n",
       "      <td>234.2300</td>\n",
       "      <td>1</td>\n",
       "      <td>2</td>\n",
       "      <td>3</td>\n",
       "      <td>0</td>\n",
       "    </tr>\n",
       "  </tbody>\n",
       "</table>\n",
       "</div>"
      ],
      "text/plain": [
       "   Item_Weight  Item_Fat_Content  Item_Visibility  Item_Type  Item_MRP  \\\n",
       "0    20.750000                 0         0.007565         13  107.8622   \n",
       "1     8.300000                 1         0.038428          4   87.3198   \n",
       "2    14.600000                 0         0.099575         11  241.7538   \n",
       "3     7.315000                 0         0.015388         13  155.0340   \n",
       "4    12.857645                 1         0.118599          4  234.2300   \n",
       "\n",
       "   Outlet_Size  Outlet_Location_Type  Outlet_Type  Item_Outlet_Sales  \n",
       "0            1                     0            1                  0  \n",
       "1            2                     1            1                  0  \n",
       "2            2                     2            0                  0  \n",
       "3            2                     1            1                  0  \n",
       "4            1                     2            3                  0  "
      ]
     },
     "execution_count": 72,
     "metadata": {},
     "output_type": "execute_result"
    }
   ],
   "source": [
    "test_bigmart_df['Item_Fat_Content']=le.fit_transform(test_bigmart_df['Item_Fat_Content'])\n",
    "test_bigmart_df['Item_Type']=le.fit_transform(test_bigmart_df['Item_Type'])\n",
    "test_bigmart_df['Outlet_Size']=le.fit_transform(test_bigmart_df['Outlet_Size'])\n",
    "test_bigmart_df['Outlet_Location_Type']=le.fit_transform(test_bigmart_df['Outlet_Location_Type'])\n",
    "test_bigmart_df['Outlet_Type']=le.fit_transform(test_bigmart_df['Outlet_Type'])\n",
    "##add column \n",
    "test_bigmart_df['Item_Outlet_Sales']=0\n",
    "test_bigmart_df.head()"
   ]
  },
  {
   "cell_type": "markdown",
   "id": "61f1323f",
   "metadata": {},
   "source": [
    "# Corraltion Matrix"
   ]
  },
  {
   "cell_type": "code",
   "execution_count": 73,
   "id": "b15d769f",
   "metadata": {},
   "outputs": [],
   "source": [
    "#check the correlation between Numerical variables and target variable:"
   ]
  },
  {
   "cell_type": "code",
   "execution_count": 74,
   "id": "1da6ceb3",
   "metadata": {},
   "outputs": [
    {
     "data": {
      "text/plain": [
       "Item_Weight             float64\n",
       "Item_Fat_Content          int32\n",
       "Item_Visibility         float64\n",
       "Item_Type                 int32\n",
       "Item_MRP                float64\n",
       "Outlet_Size               int32\n",
       "Outlet_Location_Type      int32\n",
       "Outlet_Type               int32\n",
       "Item_Outlet_Sales       float64\n",
       "dtype: object"
      ]
     },
     "execution_count": 74,
     "metadata": {},
     "output_type": "execute_result"
    }
   ],
   "source": [
    "#first get the numerical variables\n",
    "num_features = train_bigmart_df.select_dtypes(include=[np.number])\n",
    "num_features.dtypes"
   ]
  },
  {
   "cell_type": "code",
   "execution_count": 75,
   "id": "e3f59255",
   "metadata": {},
   "outputs": [
    {
     "data": {
      "text/html": [
       "<div>\n",
       "<style scoped>\n",
       "    .dataframe tbody tr th:only-of-type {\n",
       "        vertical-align: middle;\n",
       "    }\n",
       "\n",
       "    .dataframe tbody tr th {\n",
       "        vertical-align: top;\n",
       "    }\n",
       "\n",
       "    .dataframe thead th {\n",
       "        text-align: right;\n",
       "    }\n",
       "</style>\n",
       "<table border=\"1\" class=\"dataframe\">\n",
       "  <thead>\n",
       "    <tr style=\"text-align: right;\">\n",
       "      <th></th>\n",
       "      <th>Item_Weight</th>\n",
       "      <th>Item_Fat_Content</th>\n",
       "      <th>Item_Visibility</th>\n",
       "      <th>Item_Type</th>\n",
       "      <th>Item_MRP</th>\n",
       "      <th>Outlet_Size</th>\n",
       "      <th>Outlet_Location_Type</th>\n",
       "      <th>Outlet_Type</th>\n",
       "      <th>Item_Outlet_Sales</th>\n",
       "    </tr>\n",
       "  </thead>\n",
       "  <tbody>\n",
       "    <tr>\n",
       "      <th>Item_Weight</th>\n",
       "      <td>1.000000</td>\n",
       "      <td>-0.021157</td>\n",
       "      <td>-0.017450</td>\n",
       "      <td>0.028015</td>\n",
       "      <td>0.024756</td>\n",
       "      <td>-0.014105</td>\n",
       "      <td>0.004088</td>\n",
       "      <td>-0.000566</td>\n",
       "      <td>0.011550</td>\n",
       "    </tr>\n",
       "    <tr>\n",
       "      <th>Item_Fat_Content</th>\n",
       "      <td>-0.021157</td>\n",
       "      <td>1.000000</td>\n",
       "      <td>0.049915</td>\n",
       "      <td>-0.139434</td>\n",
       "      <td>0.006063</td>\n",
       "      <td>-0.001262</td>\n",
       "      <td>-0.001598</td>\n",
       "      <td>0.002199</td>\n",
       "      <td>0.018719</td>\n",
       "    </tr>\n",
       "    <tr>\n",
       "      <th>Item_Visibility</th>\n",
       "      <td>-0.017450</td>\n",
       "      <td>0.049915</td>\n",
       "      <td>1.000000</td>\n",
       "      <td>-0.036000</td>\n",
       "      <td>-0.005259</td>\n",
       "      <td>0.097533</td>\n",
       "      <td>-0.027859</td>\n",
       "      <td>-0.179604</td>\n",
       "      <td>-0.134138</td>\n",
       "    </tr>\n",
       "    <tr>\n",
       "      <th>Item_Type</th>\n",
       "      <td>0.028015</td>\n",
       "      <td>-0.139434</td>\n",
       "      <td>-0.036000</td>\n",
       "      <td>1.000000</td>\n",
       "      <td>0.032651</td>\n",
       "      <td>-0.000218</td>\n",
       "      <td>0.003084</td>\n",
       "      <td>0.003053</td>\n",
       "      <td>0.017048</td>\n",
       "    </tr>\n",
       "    <tr>\n",
       "      <th>Item_MRP</th>\n",
       "      <td>0.024756</td>\n",
       "      <td>0.006063</td>\n",
       "      <td>-0.005259</td>\n",
       "      <td>0.032651</td>\n",
       "      <td>1.000000</td>\n",
       "      <td>0.000872</td>\n",
       "      <td>0.000232</td>\n",
       "      <td>-0.001975</td>\n",
       "      <td>0.567574</td>\n",
       "    </tr>\n",
       "    <tr>\n",
       "      <th>Outlet_Size</th>\n",
       "      <td>-0.014105</td>\n",
       "      <td>-0.001262</td>\n",
       "      <td>0.097533</td>\n",
       "      <td>-0.000218</td>\n",
       "      <td>0.000872</td>\n",
       "      <td>1.000000</td>\n",
       "      <td>-0.480075</td>\n",
       "      <td>-0.401373</td>\n",
       "      <td>-0.162753</td>\n",
       "    </tr>\n",
       "    <tr>\n",
       "      <th>Outlet_Location_Type</th>\n",
       "      <td>0.004088</td>\n",
       "      <td>-0.001598</td>\n",
       "      <td>-0.027859</td>\n",
       "      <td>0.003084</td>\n",
       "      <td>0.000232</td>\n",
       "      <td>-0.480075</td>\n",
       "      <td>1.000000</td>\n",
       "      <td>0.467219</td>\n",
       "      <td>0.089367</td>\n",
       "    </tr>\n",
       "    <tr>\n",
       "      <th>Outlet_Type</th>\n",
       "      <td>-0.000566</td>\n",
       "      <td>0.002199</td>\n",
       "      <td>-0.179604</td>\n",
       "      <td>0.003053</td>\n",
       "      <td>-0.001975</td>\n",
       "      <td>-0.401373</td>\n",
       "      <td>0.467219</td>\n",
       "      <td>1.000000</td>\n",
       "      <td>0.401522</td>\n",
       "    </tr>\n",
       "    <tr>\n",
       "      <th>Item_Outlet_Sales</th>\n",
       "      <td>0.011550</td>\n",
       "      <td>0.018719</td>\n",
       "      <td>-0.134138</td>\n",
       "      <td>0.017048</td>\n",
       "      <td>0.567574</td>\n",
       "      <td>-0.162753</td>\n",
       "      <td>0.089367</td>\n",
       "      <td>0.401522</td>\n",
       "      <td>1.000000</td>\n",
       "    </tr>\n",
       "  </tbody>\n",
       "</table>\n",
       "</div>"
      ],
      "text/plain": [
       "                      Item_Weight  Item_Fat_Content  Item_Visibility  \\\n",
       "Item_Weight              1.000000         -0.021157        -0.017450   \n",
       "Item_Fat_Content        -0.021157          1.000000         0.049915   \n",
       "Item_Visibility         -0.017450          0.049915         1.000000   \n",
       "Item_Type                0.028015         -0.139434        -0.036000   \n",
       "Item_MRP                 0.024756          0.006063        -0.005259   \n",
       "Outlet_Size             -0.014105         -0.001262         0.097533   \n",
       "Outlet_Location_Type     0.004088         -0.001598        -0.027859   \n",
       "Outlet_Type             -0.000566          0.002199        -0.179604   \n",
       "Item_Outlet_Sales        0.011550          0.018719        -0.134138   \n",
       "\n",
       "                      Item_Type  Item_MRP  Outlet_Size  Outlet_Location_Type  \\\n",
       "Item_Weight            0.028015  0.024756    -0.014105              0.004088   \n",
       "Item_Fat_Content      -0.139434  0.006063    -0.001262             -0.001598   \n",
       "Item_Visibility       -0.036000 -0.005259     0.097533             -0.027859   \n",
       "Item_Type              1.000000  0.032651    -0.000218              0.003084   \n",
       "Item_MRP               0.032651  1.000000     0.000872              0.000232   \n",
       "Outlet_Size           -0.000218  0.000872     1.000000             -0.480075   \n",
       "Outlet_Location_Type   0.003084  0.000232    -0.480075              1.000000   \n",
       "Outlet_Type            0.003053 -0.001975    -0.401373              0.467219   \n",
       "Item_Outlet_Sales      0.017048  0.567574    -0.162753              0.089367   \n",
       "\n",
       "                      Outlet_Type  Item_Outlet_Sales  \n",
       "Item_Weight             -0.000566           0.011550  \n",
       "Item_Fat_Content         0.002199           0.018719  \n",
       "Item_Visibility         -0.179604          -0.134138  \n",
       "Item_Type                0.003053           0.017048  \n",
       "Item_MRP                -0.001975           0.567574  \n",
       "Outlet_Size             -0.401373          -0.162753  \n",
       "Outlet_Location_Type     0.467219           0.089367  \n",
       "Outlet_Type              1.000000           0.401522  \n",
       "Item_Outlet_Sales        0.401522           1.000000  "
      ]
     },
     "execution_count": 75,
     "metadata": {},
     "output_type": "execute_result"
    }
   ],
   "source": [
    "#secound :check the Correlation\n",
    "corr=num_features.corr()\n",
    "corr"
   ]
  },
  {
   "cell_type": "code",
   "execution_count": 76,
   "id": "c738e16b",
   "metadata": {},
   "outputs": [
    {
     "data": {
      "text/plain": [
       "Item_Outlet_Sales       1.000000\n",
       "Item_MRP                0.567574\n",
       "Outlet_Type             0.401522\n",
       "Outlet_Location_Type    0.089367\n",
       "Item_Fat_Content        0.018719\n",
       "Item_Type               0.017048\n",
       "Item_Weight             0.011550\n",
       "Item_Visibility        -0.134138\n",
       "Outlet_Size            -0.162753\n",
       "Name: Item_Outlet_Sales, dtype: float64"
      ]
     },
     "execution_count": 76,
     "metadata": {},
     "output_type": "execute_result"
    }
   ],
   "source": [
    "corr['Item_Outlet_Sales'].sort_values(ascending=False)"
   ]
  },
  {
   "cell_type": "code",
   "execution_count": 77,
   "id": "9c4fbd03",
   "metadata": {},
   "outputs": [],
   "source": [
    "#we can see that Item_MRP have the most positive correlation and the Item_Visibility have the lowest correlation \n",
    "#with our target variable. "
   ]
  },
  {
   "cell_type": "code",
   "execution_count": 91,
   "id": "6fe1b1cc",
   "metadata": {
    "scrolled": true
   },
   "outputs": [
    {
     "data": {
      "image/png": "[encoded data removed]",
      "text/plain": [
       "<Figure size 504x360 with 2 Axes>"
      ]
     },
     "metadata": {
      "needs_background": "light"
     },
     "output_type": "display_data"
    }
   ],
   "source": [
    "# Plot the correlations between the variables\n",
    "plt.figure(figsize=(7,5))\n",
    "sns.heatmap(train_bigmart_df.corr(),annot=True,)\n",
    "plt.show()"
   ]
  }
 ],
 "metadata": {
  "kernelspec": {
   "display_name": "Python 3 (ipykernel)",
   "language": "python",
   "name": "python3"
  },
  "language_info": {
   "codemirror_mode": {
    "name": "ipython",
    "version": 3
   },
   "file_extension": ".py",
   "mimetype": "text/x-python",
   "name": "python",
   "nbconvert_exporter": "python",
   "pygments_lexer": "ipython3",
   "version": "3.9.7"
  }
 },
 "nbformat": 4,
 "nbformat_minor": 5
}
